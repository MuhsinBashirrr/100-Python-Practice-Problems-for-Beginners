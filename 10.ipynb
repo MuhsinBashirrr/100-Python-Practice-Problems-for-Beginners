{
 "cells": [
  {
   "cell_type": "markdown",
   "id": "84df3c6c",
   "metadata": {},
   "source": [
    "# Write a program that will take user input of cost price and selling price and determines whether its a loss or a profit"
   ]
  },
  {
   "cell_type": "code",
   "execution_count": 3,
   "id": "9048560b",
   "metadata": {},
   "outputs": [
    {
     "name": "stdout",
     "output_type": "stream",
     "text": [
      "Enter the cost price : 78\n",
      "Enter the selling price : 89\n",
      "Its a profit\n"
     ]
    }
   ],
   "source": [
    "cost_price = int(input(\"Enter the cost price : \"))\n",
    "selling_price = int(input(\"Enter the selling price : \"))\n",
    "\n",
    "if cost_price > selling_price:\n",
    "    print(\"Its a loss\")\n",
    "elif cost_price < selling_price:\n",
    "    print(\"Its a profit\")    "
   ]
  },
  {
   "cell_type": "code",
   "execution_count": null,
   "id": "509d1c5b",
   "metadata": {},
   "outputs": [],
   "source": []
  }
 ],
 "metadata": {
  "kernelspec": {
   "display_name": "Python 3 (ipykernel)",
   "language": "python",
   "name": "python3"
  },
  "language_info": {
   "codemirror_mode": {
    "name": "ipython",
    "version": 3
   },
   "file_extension": ".py",
   "mimetype": "text/x-python",
   "name": "python",
   "nbconvert_exporter": "python",
   "pygments_lexer": "ipython3",
   "version": "3.9.13"
  }
 },
 "nbformat": 4,
 "nbformat_minor": 5
}
