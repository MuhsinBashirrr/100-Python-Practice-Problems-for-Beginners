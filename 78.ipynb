{
 "cells": [
  {
   "cell_type": "markdown",
   "id": "5b3323d7",
   "metadata": {},
   "source": [
    "# Write a function that accepts a list of strings and performs Bag of words and convert it to numerical vectors.\n",
    "https://en.wikipedia.org/wiki/Bag-of-words_model\n"
   ]
  },
  {
   "cell_type": "code",
   "execution_count": 6,
   "id": "0a49c2c7",
   "metadata": {},
   "outputs": [],
   "source": [
    "from sklearn.feature_extraction.text import CountVectorizer\n",
    "\n",
    "def bag_of_words(strings):\n",
    "    vectorizer = CountVectorizer()\n",
    "    vectors = vectorizer.fit_transform(strings)\n",
    "    feature_names = vectorizer.get_feature_names()\n",
    "    return vectors.toarray(), feature_names\n"
   ]
  },
  {
   "cell_type": "code",
   "execution_count": 8,
   "id": "0d22d3ce",
   "metadata": {},
   "outputs": [
    {
     "name": "stdout",
     "output_type": "stream",
     "text": [
      "Numerical vectors:\n",
      "[[0 1 1 1 0 0 1 0 1]\n",
      " [0 2 0 1 0 1 1 0 1]\n",
      " [1 0 0 1 1 0 1 1 1]\n",
      " [0 1 1 1 0 0 1 0 1]]\n",
      "\n",
      "Feature names:\n",
      "['and', 'document', 'first', 'is', 'one', 'second', 'the', 'third', 'this']\n"
     ]
    },
    {
     "name": "stderr",
     "output_type": "stream",
     "text": [
      "C:\\ProgramData\\Anaconda3\\lib\\site-packages\\sklearn\\utils\\deprecation.py:87: FutureWarning: Function get_feature_names is deprecated; get_feature_names is deprecated in 1.0 and will be removed in 1.2. Please use get_feature_names_out instead.\n",
      "  warnings.warn(msg, category=FutureWarning)\n"
     ]
    }
   ],
   "source": [
    "texts = [\"This is the first document.\",\n",
    "         \"This document is the second document.\",\n",
    "         \"And this is the third one.\",\n",
    "         \"Is this the first document?\"]\n",
    "\n",
    "vectors, features = bag_of_words(texts)\n",
    "print(\"Numerical vectors:\")\n",
    "print(vectors)\n",
    "print(\"\\nFeature names:\")\n",
    "print(features)\n"
   ]
  },
  {
   "cell_type": "code",
   "execution_count": null,
   "id": "3285b276",
   "metadata": {},
   "outputs": [],
   "source": []
  }
 ],
 "metadata": {
  "kernelspec": {
   "display_name": "Python 3 (ipykernel)",
   "language": "python",
   "name": "python3"
  },
  "language_info": {
   "codemirror_mode": {
    "name": "ipython",
    "version": 3
   },
   "file_extension": ".py",
   "mimetype": "text/x-python",
   "name": "python",
   "nbconvert_exporter": "python",
   "pygments_lexer": "ipython3",
   "version": "3.9.13"
  }
 },
 "nbformat": 4,
 "nbformat_minor": 5
}
