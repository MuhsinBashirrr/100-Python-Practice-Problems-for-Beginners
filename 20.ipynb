{
 "cells": [
  {
   "cell_type": "markdown",
   "id": "16951887",
   "metadata": {},
   "source": [
    "# Write a program that will swap numbers."
   ]
  },
  {
   "cell_type": "code",
   "execution_count": 4,
   "id": "94e51f4a",
   "metadata": {},
   "outputs": [
    {
     "name": "stdout",
     "output_type": "stream",
     "text": [
      "Before swapping: a = 10 b = 12\n",
      "After swapping: a = 12 b = 10\n"
     ]
    }
   ],
   "source": [
    "def swap_numbers(a, b):\n",
    "    print(\"Before swapping: a =\", a, \"b =\", b)\n",
    "    a, b = b, a\n",
    "    print(\"After swapping: a =\", a, \"b =\", b)\n",
    "    \n",
    "swap_numbers(10, 12)\n"
   ]
  },
  {
   "cell_type": "code",
   "execution_count": null,
   "id": "69ac2f71",
   "metadata": {},
   "outputs": [],
   "source": []
  }
 ],
 "metadata": {
  "kernelspec": {
   "display_name": "Python 3 (ipykernel)",
   "language": "python",
   "name": "python3"
  },
  "language_info": {
   "codemirror_mode": {
    "name": "ipython",
    "version": 3
   },
   "file_extension": ".py",
   "mimetype": "text/x-python",
   "name": "python",
   "nbconvert_exporter": "python",
   "pygments_lexer": "ipython3",
   "version": "3.9.13"
  }
 },
 "nbformat": 4,
 "nbformat_minor": 5
}
