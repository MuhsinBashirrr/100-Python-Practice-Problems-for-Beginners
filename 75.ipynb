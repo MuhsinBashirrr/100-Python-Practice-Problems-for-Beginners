{
 "cells": [
  {
   "cell_type": "markdown",
   "id": "5e7cf6d0",
   "metadata": {},
   "source": [
    "# Write a program to swap the key value pair for max and min values......Eg if the dict is like this {‘a’:1,’b’:2,’c’:3}.....Output should be {a:3,b:2,c:1}"
   ]
  },
  {
   "cell_type": "code",
   "execution_count": 1,
   "id": "b35f7df8",
   "metadata": {},
   "outputs": [
    {
     "name": "stdout",
     "output_type": "stream",
     "text": [
      "{'a': 3, 'b': 2, 'c': 1}\n"
     ]
    }
   ],
   "source": [
    "def swap_max_min(dictionary):\n",
    "    if len(dictionary) == 0:\n",
    "        return dictionary\n",
    "\n",
    "    max_value = max(dictionary.values())\n",
    "    min_value = min(dictionary.values())\n",
    "\n",
    "    # Find the keys corresponding to the maximum and minimum values\n",
    "    max_key = next(key for key, value in dictionary.items() if value == max_value)\n",
    "    min_key = next(key for key, value in dictionary.items() if value == min_value)\n",
    "\n",
    "    # Swap the key-value pairs\n",
    "    dictionary[max_key] = min_value\n",
    "    dictionary[min_key] = max_value\n",
    "\n",
    "    return dictionary\n",
    "\n",
    "# Example usage\n",
    "my_dict = {'a': 1, 'b': 2, 'c': 3}\n",
    "swapped_dict = swap_max_min(my_dict)\n",
    "print(swapped_dict)\n"
   ]
  },
  {
   "cell_type": "code",
   "execution_count": null,
   "id": "75c6cdf2",
   "metadata": {},
   "outputs": [],
   "source": []
  }
 ],
 "metadata": {
  "kernelspec": {
   "display_name": "Python 3 (ipykernel)",
   "language": "python",
   "name": "python3"
  },
  "language_info": {
   "codemirror_mode": {
    "name": "ipython",
    "version": 3
   },
   "file_extension": ".py",
   "mimetype": "text/x-python",
   "name": "python",
   "nbconvert_exporter": "python",
   "pygments_lexer": "ipython3",
   "version": "3.9.13"
  }
 },
 "nbformat": 4,
 "nbformat_minor": 5
}
