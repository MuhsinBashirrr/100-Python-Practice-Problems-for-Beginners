{
 "cells": [
  {
   "cell_type": "markdown",
   "id": "01fda9b2",
   "metadata": {},
   "source": [
    "# User will provide 2 numbers you have to find the HCF of those 2 numbers."
   ]
  },
  {
   "cell_type": "code",
   "execution_count": 2,
   "id": "b6f56da4",
   "metadata": {},
   "outputs": [
    {
     "name": "stdout",
     "output_type": "stream",
     "text": [
      "Enter the first number: 67\n",
      "Enter the second number: 78\n",
      "The HCF of 67 and 78 is: 1\n"
     ]
    }
   ],
   "source": [
    "def calculate_hcf(num1, num2):\n",
    "    while num2 != 0:\n",
    "        num1, num2 = num2, num1 % num2\n",
    "    return num1\n",
    "\n",
    "\n",
    "num1 = int(input(\"Enter the first number: \"))\n",
    "num2 = int(input(\"Enter the second number: \"))\n",
    "\n",
    "\n",
    "hcf = calculate_hcf(num1, num2)\n",
    "\n",
    "\n",
    "print(\"The HCF of\", num1, \"and\", num2, \"is:\", hcf)\n",
    "\n"
   ]
  },
  {
   "cell_type": "code",
   "execution_count": null,
   "id": "f5ecb753",
   "metadata": {},
   "outputs": [],
   "source": []
  }
 ],
 "metadata": {
  "kernelspec": {
   "display_name": "Python 3 (ipykernel)",
   "language": "python",
   "name": "python3"
  },
  "language_info": {
   "codemirror_mode": {
    "name": "ipython",
    "version": 3
   },
   "file_extension": ".py",
   "mimetype": "text/x-python",
   "name": "python",
   "nbconvert_exporter": "python",
   "pygments_lexer": "ipython3",
   "version": "3.9.13"
  }
 },
 "nbformat": 4,
 "nbformat_minor": 5
}
