{
 "cells": [
  {
   "cell_type": "markdown",
   "id": "eadc44a6",
   "metadata": {},
   "source": [
    "# Define a class named Rectangle which can be constructed by a length and width. The Rectangle class has a method which can compute the area. "
   ]
  },
  {
   "cell_type": "code",
   "execution_count": 3,
   "id": "fbb04de4",
   "metadata": {},
   "outputs": [
    {
     "name": "stdout",
     "output_type": "stream",
     "text": [
      "The area of the rectangle is: 15\n"
     ]
    }
   ],
   "source": [
    "class Rectangle:\n",
    "    def __init__(self, length, width):\n",
    "        self.length = length\n",
    "        self.width = width\n",
    "    \n",
    "    def compute_area(self):\n",
    "        return self.length * self.width\n",
    "# Create a Rectangle object with length 5 and width 3\n",
    "my_rectangle = Rectangle(5, 3)\n",
    "\n",
    "# Calculate the area of the rectangle\n",
    "area = my_rectangle.compute_area()\n",
    "\n",
    "# Print the area\n",
    "print(\"The area of the rectangle is:\", area)\n"
   ]
  },
  {
   "cell_type": "code",
   "execution_count": null,
   "id": "0d1bf9b0",
   "metadata": {},
   "outputs": [],
   "source": []
  }
 ],
 "metadata": {
  "kernelspec": {
   "display_name": "Python 3 (ipykernel)",
   "language": "python",
   "name": "python3"
  },
  "language_info": {
   "codemirror_mode": {
    "name": "ipython",
    "version": 3
   },
   "file_extension": ".py",
   "mimetype": "text/x-python",
   "name": "python",
   "nbconvert_exporter": "python",
   "pygments_lexer": "ipython3",
   "version": "3.9.13"
  }
 },
 "nbformat": 4,
 "nbformat_minor": 5
}
