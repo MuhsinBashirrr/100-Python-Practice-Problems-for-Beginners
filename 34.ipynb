{
 "cells": [
  {
   "cell_type": "markdown",
   "id": "d8e564a2",
   "metadata": {},
   "source": [
    "# Write a Python program that accepts an integer (n) and computes the value of n+nn+nnn."
   ]
  },
  {
   "cell_type": "code",
   "execution_count": 7,
   "id": "580e3967",
   "metadata": {},
   "outputs": [
    {
     "name": "stdout",
     "output_type": "stream",
     "text": [
      "Enter an integer: 5\n",
      "The value of n + nn + nnn is: 615\n"
     ]
    }
   ],
   "source": [
    "def calculate_value(n):\n",
    "    nn = int(str(n) + str(n))\n",
    "    nnn = int(str(n) + str(n) + str(n))\n",
    "    result = n + nn + nnn\n",
    "    return result\n",
    "\n",
    "\n",
    "n = int(input(\"Enter an integer: \"))\n",
    "\n",
    "\n",
    "value = calculate_value(n)\n",
    "\n",
    "\n",
    "print(\"The value of n + nn + nnn is:\", value)\n",
    "\n"
   ]
  },
  {
   "cell_type": "code",
   "execution_count": null,
   "id": "83875054",
   "metadata": {},
   "outputs": [],
   "source": []
  }
 ],
 "metadata": {
  "kernelspec": {
   "display_name": "Python 3 (ipykernel)",
   "language": "python",
   "name": "python3"
  },
  "language_info": {
   "codemirror_mode": {
    "name": "ipython",
    "version": 3
   },
   "file_extension": ".py",
   "mimetype": "text/x-python",
   "name": "python",
   "nbconvert_exporter": "python",
   "pygments_lexer": "ipython3",
   "version": "3.9.13"
  }
 },
 "nbformat": 4,
 "nbformat_minor": 5
}
