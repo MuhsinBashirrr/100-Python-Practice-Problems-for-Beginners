{
 "cells": [
  {
   "cell_type": "markdown",
   "id": "37378811",
   "metadata": {},
   "source": [
    "# Write a Python Program to Find the Sum of the Series till the nth term: \n",
    "1 + x^2/2 + x^3/3 + … x^n/n\n",
    "n will be provided by the user"
   ]
  },
  {
   "cell_type": "code",
   "execution_count": 2,
   "id": "3276722b",
   "metadata": {},
   "outputs": [
    {
     "name": "stdout",
     "output_type": "stream",
     "text": [
      "Enter the value of x: 56\n",
      "Enter the value of n: 4\n",
      "Sum of the series: 2518786.6666666665\n"
     ]
    }
   ],
   "source": [
    "def calculate_sum(x, n):\n",
    "    series_sum = 0\n",
    "\n",
    "    for i in range(1, n + 1):\n",
    "        term = x ** i / i  # Calculate each term of the series\n",
    "        series_sum += term  # Add each term to the series sum\n",
    "\n",
    "    return series_sum\n",
    "\n",
    "# Get input from the user\n",
    "x = float(input(\"Enter the value of x: \"))\n",
    "n = int(input(\"Enter the value of n: \"))\n",
    "\n",
    "# Calculate the sum of the series\n",
    "result = calculate_sum(x, n)\n",
    "\n",
    "# Print the result\n",
    "print(\"Sum of the series:\", result)\n",
    "\n"
   ]
  },
  {
   "cell_type": "code",
   "execution_count": null,
   "id": "d20c6fd1",
   "metadata": {},
   "outputs": [],
   "source": []
  }
 ],
 "metadata": {
  "kernelspec": {
   "display_name": "Python 3 (ipykernel)",
   "language": "python",
   "name": "python3"
  },
  "language_info": {
   "codemirror_mode": {
    "name": "ipython",
    "version": 3
   },
   "file_extension": ".py",
   "mimetype": "text/x-python",
   "name": "python",
   "nbconvert_exporter": "python",
   "pygments_lexer": "ipython3",
   "version": "3.9.13"
  }
 },
 "nbformat": 4,
 "nbformat_minor": 5
}
