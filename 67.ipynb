{
 "cells": [
  {
   "cell_type": "markdown",
   "id": "8db4dca5",
   "metadata": {},
   "source": [
    "# Write a program that can convert an integer to string.  \n"
   ]
  },
  {
   "cell_type": "code",
   "execution_count": 22,
   "id": "c5cfb9c0",
   "metadata": {},
   "outputs": [
    {
     "name": "stdout",
     "output_type": "stream",
     "text": [
      "12345\n"
     ]
    }
   ],
   "source": [
    "def integer_to_string(num):\n",
    "    return str(num)\n",
    "\n",
    "# Example usage\n",
    "num = 12345\n",
    "result = integer_to_string(num)\n",
    "print(result)  # Output: \"12345\"\n",
    "\n",
    "\n"
   ]
  },
  {
   "cell_type": "code",
   "execution_count": null,
   "id": "91e3229c",
   "metadata": {},
   "outputs": [],
   "source": []
  }
 ],
 "metadata": {
  "kernelspec": {
   "display_name": "Python 3 (ipykernel)",
   "language": "python",
   "name": "python3"
  },
  "language_info": {
   "codemirror_mode": {
    "name": "ipython",
    "version": 3
   },
   "file_extension": ".py",
   "mimetype": "text/x-python",
   "name": "python",
   "nbconvert_exporter": "python",
   "pygments_lexer": "ipython3",
   "version": "3.9.13"
  }
 },
 "nbformat": 4,
 "nbformat_minor": 5
}
