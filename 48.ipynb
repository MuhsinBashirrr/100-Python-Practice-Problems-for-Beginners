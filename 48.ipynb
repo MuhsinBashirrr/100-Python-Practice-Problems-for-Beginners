{
 "cells": [
  {
   "cell_type": "markdown",
   "id": "aa01eeb2",
   "metadata": {},
   "source": [
    "# Find the index position of a particular character in another string."
   ]
  },
  {
   "cell_type": "code",
   "execution_count": 3,
   "id": "1b0bb2f8",
   "metadata": {},
   "outputs": [
    {
     "name": "stdout",
     "output_type": "stream",
     "text": [
      "Enter a string: muhsin\n",
      "Enter a character: i\n",
      "The character i is found at index 4\n"
     ]
    }
   ],
   "source": [
    "def find_character_index(string, char):\n",
    "    for index in range(len(string)):\n",
    "        if string[index] == char:\n",
    "            return index\n",
    "    return -1\n",
    "\n",
    "\n",
    "input_string = input(\"Enter a string: \")\n",
    "input_character = input(\"Enter a character: \")\n",
    "\n",
    "index = find_character_index(input_string, input_character)\n",
    "\n",
    "if index != -1:\n",
    "    print(\"The character\", input_character, \"is found at index\", index)\n",
    "else:\n",
    "    print(\"The character\", input_character, \"is not found in the string.\")\n",
    "\n"
   ]
  },
  {
   "cell_type": "code",
   "execution_count": null,
   "id": "8d953356",
   "metadata": {},
   "outputs": [],
   "source": []
  }
 ],
 "metadata": {
  "kernelspec": {
   "display_name": "Python 3 (ipykernel)",
   "language": "python",
   "name": "python3"
  },
  "language_info": {
   "codemirror_mode": {
    "name": "ipython",
    "version": 3
   },
   "file_extension": ".py",
   "mimetype": "text/x-python",
   "name": "python",
   "nbconvert_exporter": "python",
   "pygments_lexer": "ipython3",
   "version": "3.9.13"
  }
 },
 "nbformat": 4,
 "nbformat_minor": 5
}
