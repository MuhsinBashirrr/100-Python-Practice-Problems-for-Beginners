{
 "cells": [
  {
   "cell_type": "markdown",
   "id": "ee5d001b",
   "metadata": {},
   "source": [
    "# Create 2 lists from a given list where 1st list will contain all the odd numbers from the original list and the 2nd one will contain all the even numbers .\n"
   ]
  },
  {
   "cell_type": "code",
   "execution_count": 16,
   "id": "b969aa09",
   "metadata": {},
   "outputs": [
    {
     "name": "stdout",
     "output_type": "stream",
     "text": [
      "Odd numbers: [1, 3, 5, 7, 9]\n",
      "Even numbers: [2, 4, 6, 8]\n"
     ]
    }
   ],
   "source": [
    "def separate_odd_even_numbers(nums):\n",
    "    odd_nums = []\n",
    "    even_nums = []\n",
    "\n",
    "    for num in nums:\n",
    "        if num % 2 == 0:\n",
    "            even_nums.append(num)\n",
    "        else:\n",
    "            odd_nums.append(num)\n",
    "\n",
    "    return odd_nums, even_nums\n",
    "\n",
    "# Example usage:\n",
    "input_list = [1, 2, 3, 4, 5, 6, 7, 8, 9]\n",
    "odd_numbers, even_numbers = separate_odd_even_numbers(input_list)\n",
    "\n",
    "print(\"Odd numbers:\", odd_numbers)\n",
    "print(\"Even numbers:\", even_numbers)\n",
    "\n",
    "\n",
    "\n"
   ]
  },
  {
   "cell_type": "code",
   "execution_count": null,
   "id": "8ce8308c",
   "metadata": {},
   "outputs": [],
   "source": []
  }
 ],
 "metadata": {
  "kernelspec": {
   "display_name": "Python 3 (ipykernel)",
   "language": "python",
   "name": "python3"
  },
  "language_info": {
   "codemirror_mode": {
    "name": "ipython",
    "version": 3
   },
   "file_extension": ".py",
   "mimetype": "text/x-python",
   "name": "python",
   "nbconvert_exporter": "python",
   "pygments_lexer": "ipython3",
   "version": "3.9.13"
  }
 },
 "nbformat": 4,
 "nbformat_minor": 5
}
