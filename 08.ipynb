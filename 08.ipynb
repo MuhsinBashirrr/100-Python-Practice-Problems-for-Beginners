{
 "cells": [
  {
   "cell_type": "markdown",
   "id": "8e0109d4",
   "metadata": {},
   "source": [
    "# Write a program to find the euclidean distance between two coordinates."
   ]
  },
  {
   "cell_type": "code",
   "execution_count": 1,
   "id": "47cfd4c4",
   "metadata": {},
   "outputs": [
    {
     "name": "stdout",
     "output_type": "stream",
     "text": [
      "Enter the x-coordinate of the first point :45.9\n",
      "Enter the y-coordinate of the first point :76.9\n",
      "Enter the x-coordinate of the second point :65\n",
      "Enter the x-coordinate of the second point :89.0\n",
      "The Euclidean distance between the two points is 22.610174700784597\n"
     ]
    }
   ],
   "source": [
    "import math\n",
    "\n",
    "x1 = float(input(\"Enter the x-coordinate of the first point :\"))\n",
    "y1 = float(input(\"Enter the y-coordinate of the first point :\"))\n",
    "\n",
    "x2 = float(input(\"Enter the x-coordinate of the second point :\"))\n",
    "y2 = float(input(\"Enter the x-coordinate of the second point :\"))\n",
    "\n",
    "distance = math.sqrt((x2-x1)**2 + (y2-y1)**2)\n",
    "print(\"The Euclidean distance between the two points is\", distance)"
   ]
  },
  {
   "cell_type": "code",
   "execution_count": null,
   "id": "ecba0fb9",
   "metadata": {},
   "outputs": [],
   "source": []
  }
 ],
 "metadata": {
  "kernelspec": {
   "display_name": "Python 3 (ipykernel)",
   "language": "python",
   "name": "python3"
  },
  "language_info": {
   "codemirror_mode": {
    "name": "ipython",
    "version": 3
   },
   "file_extension": ".py",
   "mimetype": "text/x-python",
   "name": "python",
   "nbconvert_exporter": "python",
   "pygments_lexer": "ipython3",
   "version": "3.9.13"
  }
 },
 "nbformat": 4,
 "nbformat_minor": 5
}
