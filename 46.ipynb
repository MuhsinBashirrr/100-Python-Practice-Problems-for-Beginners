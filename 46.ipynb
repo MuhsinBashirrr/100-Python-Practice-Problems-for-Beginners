{
 "cells": [
  {
   "cell_type": "markdown",
   "id": "b27fcaaa",
   "metadata": {},
   "source": [
    "# Extract username from a given email.------Eg if the email is muhsinbashir@gmail.com then the username should be muhsinbashir"
   ]
  },
  {
   "cell_type": "code",
   "execution_count": 3,
   "id": "7c310b98",
   "metadata": {},
   "outputs": [
    {
     "name": "stdout",
     "output_type": "stream",
     "text": [
      "Enter an email address: muhsinbashir@gmail.com\n",
      "Username: muhsinbashir\n"
     ]
    }
   ],
   "source": [
    "def extract_username(email):\n",
    "    # Find the index of the \"@\" symbol\n",
    "    at_index = email.index(\"@\")\n",
    "\n",
    "    # Extract the username from the email\n",
    "    username = email[:at_index]\n",
    "\n",
    "    return username\n",
    "\n",
    "# Example usage\n",
    "input_email = input(\"Enter an email address: \")\n",
    "username = extract_username(input_email)\n",
    "print(\"Username:\", username)\n",
    "\n"
   ]
  },
  {
   "cell_type": "code",
   "execution_count": null,
   "id": "e84d2c74",
   "metadata": {},
   "outputs": [],
   "source": []
  }
 ],
 "metadata": {
  "kernelspec": {
   "display_name": "Python 3 (ipykernel)",
   "language": "python",
   "name": "python3"
  },
  "language_info": {
   "codemirror_mode": {
    "name": "ipython",
    "version": 3
   },
   "file_extension": ".py",
   "mimetype": "text/x-python",
   "name": "python",
   "nbconvert_exporter": "python",
   "pygments_lexer": "ipython3",
   "version": "3.9.13"
  }
 },
 "nbformat": 4,
 "nbformat_minor": 5
}
