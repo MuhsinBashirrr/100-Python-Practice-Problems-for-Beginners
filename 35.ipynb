{
 "cells": [
  {
   "cell_type": "markdown",
   "id": "089f3040",
   "metadata": {},
   "source": [
    "# Take a number from the user and find the number of digits in it."
   ]
  },
  {
   "cell_type": "code",
   "execution_count": 8,
   "id": "6d2342cf",
   "metadata": {},
   "outputs": [
    {
     "name": "stdout",
     "output_type": "stream",
     "text": [
      "Enter a number: 345\n",
      "The number of digits in the number is: 3\n"
     ]
    }
   ],
   "source": [
    "def count_digits(number):\n",
    "    \n",
    "    number_str = str(number)\n",
    "    \n",
    "    \n",
    "    digit_count = len(number_str)\n",
    "    \n",
    "    return digit_count\n",
    "\n",
    "\n",
    "number = int(input(\"Enter a number: \"))\n",
    "\n",
    "\n",
    "digit_count = count_digits(number)\n",
    "\n",
    "\n",
    "print(\"The number of digits in the number is:\", digit_count)\n",
    "\n"
   ]
  },
  {
   "cell_type": "code",
   "execution_count": null,
   "id": "f581daae",
   "metadata": {},
   "outputs": [],
   "source": []
  }
 ],
 "metadata": {
  "kernelspec": {
   "display_name": "Python 3 (ipykernel)",
   "language": "python",
   "name": "python3"
  },
  "language_info": {
   "codemirror_mode": {
    "name": "ipython",
    "version": 3
   },
   "file_extension": ".py",
   "mimetype": "text/x-python",
   "name": "python",
   "nbconvert_exporter": "python",
   "pygments_lexer": "ipython3",
   "version": "3.9.13"
  }
 },
 "nbformat": 4,
 "nbformat_minor": 5
}
