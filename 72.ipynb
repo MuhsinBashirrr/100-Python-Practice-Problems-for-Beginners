{
 "cells": [
  {
   "cell_type": "markdown",
   "id": "21be3cfb",
   "metadata": {},
   "source": [
    "# Write a program that can find the most used word in a bollywood song.\n"
   ]
  },
  {
   "cell_type": "code",
   "execution_count": 27,
   "id": "77816f64",
   "metadata": {},
   "outputs": [
    {
     "name": "stdout",
     "output_type": "stream",
     "text": [
      "The most used word in the song is: tum\n"
     ]
    }
   ],
   "source": [
    "def find_most_used_word(song_lyrics):\n",
    "    word_count = {}\n",
    "    max_count = 0\n",
    "    most_used_word = \"\"\n",
    "\n",
    "    # Remove punctuation marks and convert the lyrics to lowercase\n",
    "    song_lyrics = song_lyrics.lower()\n",
    "    song_lyrics = song_lyrics.replace(\",\", \"\").replace(\".\", \"\").replace(\"?\", \"\").replace(\"!\", \"\")\n",
    "\n",
    "    # Split the lyrics into words\n",
    "    words = song_lyrics.split()\n",
    "\n",
    "    # Count the occurrence of each word\n",
    "    for word in words:\n",
    "        if word in word_count:\n",
    "            word_count[word] += 1\n",
    "        else:\n",
    "            word_count[word] = 1\n",
    "\n",
    "    # Find the most used word\n",
    "    for word, count in word_count.items():\n",
    "        if count > max_count:\n",
    "            max_count = count\n",
    "            most_used_word = word\n",
    "\n",
    "    return most_used_word\n",
    "\n",
    "# Test the function\n",
    "song = \"Tum hi ho, ab tum hi ho, zindagi ab tum hi ho\"\n",
    "most_used = find_most_used_word(song)\n",
    "print(\"The most used word in the song is:\", most_used)\n",
    "\n",
    "\n"
   ]
  },
  {
   "cell_type": "code",
   "execution_count": null,
   "id": "40efd4f3",
   "metadata": {},
   "outputs": [],
   "source": []
  }
 ],
 "metadata": {
  "kernelspec": {
   "display_name": "Python 3 (ipykernel)",
   "language": "python",
   "name": "python3"
  },
  "language_info": {
   "codemirror_mode": {
    "name": "ipython",
    "version": 3
   },
   "file_extension": ".py",
   "mimetype": "text/x-python",
   "name": "python",
   "nbconvert_exporter": "python",
   "pygments_lexer": "ipython3",
   "version": "3.9.13"
  }
 },
 "nbformat": 4,
 "nbformat_minor": 5
}
