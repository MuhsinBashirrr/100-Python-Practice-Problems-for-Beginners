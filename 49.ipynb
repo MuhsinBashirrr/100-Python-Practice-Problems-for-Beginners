{
 "cells": [
  {
   "cell_type": "markdown",
   "id": "5f5ced01",
   "metadata": {},
   "source": [
    "# Count the number of vowels in a string provided by the user."
   ]
  },
  {
   "cell_type": "code",
   "execution_count": 4,
   "id": "948ca1b8",
   "metadata": {},
   "outputs": [
    {
     "name": "stdout",
     "output_type": "stream",
     "text": [
      "Enter a string: muhsin\n",
      "Number of vowels: 2\n"
     ]
    }
   ],
   "source": [
    "def count_vowels(string):\n",
    "    vowels = \"aeiouAEIOU\"\n",
    "    count = 0\n",
    "    for char in string:\n",
    "        if char in vowels:\n",
    "            count += 1\n",
    "    return count\n",
    "\n",
    "\n",
    "input_string = input(\"Enter a string: \")\n",
    "vowel_count = count_vowels(input_string)\n",
    "print(\"Number of vowels:\", vowel_count)\n",
    "\n",
    "\n"
   ]
  },
  {
   "cell_type": "code",
   "execution_count": null,
   "id": "39c66c49",
   "metadata": {},
   "outputs": [],
   "source": []
  }
 ],
 "metadata": {
  "kernelspec": {
   "display_name": "Python 3 (ipykernel)",
   "language": "python",
   "name": "python3"
  },
  "language_info": {
   "codemirror_mode": {
    "name": "ipython",
    "version": 3
   },
   "file_extension": ".py",
   "mimetype": "text/x-python",
   "name": "python",
   "nbconvert_exporter": "python",
   "pygments_lexer": "ipython3",
   "version": "3.9.13"
  }
 },
 "nbformat": 4,
 "nbformat_minor": 5
}
