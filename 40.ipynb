{
 "cells": [
  {
   "cell_type": "markdown",
   "id": "e716e822",
   "metadata": {},
   "source": [
    "# Write a program to calculate the sum of the following series till the nth term\n",
    "1/1! + 2/2! + 3/3! + 4/4! +…….+ n/n!\n",
    "n will be provided by the user"
   ]
  },
  {
   "cell_type": "code",
   "execution_count": 1,
   "id": "a591e579",
   "metadata": {},
   "outputs": [
    {
     "name": "stdout",
     "output_type": "stream",
     "text": [
      "Enter the value of n: 5\n",
      "Sum of the series: 2.708333333333333\n"
     ]
    }
   ],
   "source": [
    "def calculate_sum(n):\n",
    "    factorial = 1\n",
    "    series_sum = 0\n",
    "\n",
    "    for i in range(1, n + 1):\n",
    "        factorial *= i  # Calculate factorial of i\n",
    "        term = i / factorial  # Calculate each term of the series\n",
    "        series_sum += term  # Add each term to the series sum\n",
    "\n",
    "    return series_sum\n",
    "\n",
    "# Get input from the user\n",
    "n = int(input(\"Enter the value of n: \"))\n",
    "\n",
    "# Calculate the sum of the series\n",
    "result = calculate_sum(n)\n",
    "\n",
    "# Print the result\n",
    "print(\"Sum of the series:\", result)\n"
   ]
  },
  {
   "cell_type": "code",
   "execution_count": null,
   "id": "13c39486",
   "metadata": {},
   "outputs": [],
   "source": []
  }
 ],
 "metadata": {
  "kernelspec": {
   "display_name": "Python 3 (ipykernel)",
   "language": "python",
   "name": "python3"
  },
  "language_info": {
   "codemirror_mode": {
    "name": "ipython",
    "version": 3
   },
   "file_extension": ".py",
   "mimetype": "text/x-python",
   "name": "python",
   "nbconvert_exporter": "python",
   "pygments_lexer": "ipython3",
   "version": "3.9.13"
  }
 },
 "nbformat": 4,
 "nbformat_minor": 5
}
