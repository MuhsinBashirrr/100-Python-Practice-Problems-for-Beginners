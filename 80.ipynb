{
 "cells": [
  {
   "cell_type": "markdown",
   "id": "c6368113",
   "metadata": {},
   "source": [
    "# Write a program that accepts neighbors(set of 2D co-ordinates) and a point(single 2D co-ordinate) and tells nearest neighbor(in terms of euclidean distance).\n"
   ]
  },
  {
   "cell_type": "code",
   "execution_count": 11,
   "id": "cd4cc5d7",
   "metadata": {},
   "outputs": [
    {
     "name": "stdout",
     "output_type": "stream",
     "text": [
      "The nearest neighbor to (9, 10) is (7, 8)\n"
     ]
    }
   ],
   "source": [
    "import math\n",
    "\n",
    "def calculate_distance(p1, p2):\n",
    "    # Calculate Euclidean distance between two points\n",
    "    x1, y1 = p1\n",
    "    x2, y2 = p2\n",
    "    distance = math.sqrt((x2 - x1) ** 2 + (y2 - y1) ** 2)\n",
    "    return distance\n",
    "\n",
    "def find_nearest_neighbor(neighbors, point):\n",
    "    nearest_distance = float('inf')\n",
    "    nearest_neighbor = None\n",
    "\n",
    "    for neighbor in neighbors:\n",
    "        distance = calculate_distance(neighbor, point)\n",
    "        if distance < nearest_distance:\n",
    "            nearest_distance = distance\n",
    "            nearest_neighbor = neighbor\n",
    "\n",
    "    return nearest_neighbor\n",
    "\n",
    "# Example usage\n",
    "neighbors = {(1, 2), (3, 4), (5, 6), (7, 8)}\n",
    "point = (9, 10)\n",
    "\n",
    "nearest = find_nearest_neighbor(neighbors, point)\n",
    "\n",
    "if nearest:\n",
    "    print(f\"The nearest neighbor to {point} is {nearest}\")\n",
    "else:\n",
    "    print(\"No neighbors found\")\n",
    "\n",
    "\n"
   ]
  },
  {
   "cell_type": "code",
   "execution_count": null,
   "id": "282f32a0",
   "metadata": {},
   "outputs": [],
   "source": []
  }
 ],
 "metadata": {
  "kernelspec": {
   "display_name": "Python 3 (ipykernel)",
   "language": "python",
   "name": "python3"
  },
  "language_info": {
   "codemirror_mode": {
    "name": "ipython",
    "version": 3
   },
   "file_extension": ".py",
   "mimetype": "text/x-python",
   "name": "python",
   "nbconvert_exporter": "python",
   "pygments_lexer": "ipython3",
   "version": "3.9.13"
  }
 },
 "nbformat": 4,
 "nbformat_minor": 5
}
