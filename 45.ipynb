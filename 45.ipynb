{
 "cells": [
  {
   "cell_type": "markdown",
   "id": "e7a0f2b6",
   "metadata": {},
   "source": [
    "# Write a python program to Find the length of a given string without using the len() function."
   ]
  },
  {
   "cell_type": "code",
   "execution_count": 2,
   "id": "bacd4aff",
   "metadata": {},
   "outputs": [
    {
     "name": "stdout",
     "output_type": "stream",
     "text": [
      "Enter a string: MUHSIN\n",
      "Length of the string: 6\n"
     ]
    }
   ],
   "source": [
    "def calculate_length(string):\n",
    "    count = 0\n",
    "    for char in string:\n",
    "        count += 1\n",
    "    return count\n",
    "\n",
    "# Example usage\n",
    "input_string = input(\"Enter a string: \")\n",
    "length = calculate_length(input_string)\n",
    "print(\"Length of the string:\", length)\n",
    "\n"
   ]
  },
  {
   "cell_type": "code",
   "execution_count": null,
   "id": "efee474d",
   "metadata": {},
   "outputs": [],
   "source": []
  }
 ],
 "metadata": {
  "kernelspec": {
   "display_name": "Python 3 (ipykernel)",
   "language": "python",
   "name": "python3"
  },
  "language_info": {
   "codemirror_mode": {
    "name": "ipython",
    "version": 3
   },
   "file_extension": ".py",
   "mimetype": "text/x-python",
   "name": "python",
   "nbconvert_exporter": "python",
   "pygments_lexer": "ipython3",
   "version": "3.9.13"
  }
 },
 "nbformat": 4,
 "nbformat_minor": 5
}
