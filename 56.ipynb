{
 "cells": [
  {
   "cell_type": "markdown",
   "id": "8f9f769e",
   "metadata": {},
   "source": [
    "# Write a python program to search a given number from a list\n"
   ]
  },
  {
   "cell_type": "code",
   "execution_count": 10,
   "id": "c4cf5f20",
   "metadata": {},
   "outputs": [
    {
     "name": "stdout",
     "output_type": "stream",
     "text": [
      "Number 3 found in the list.\n"
     ]
    }
   ],
   "source": [
    "def search_number(lst, target):\n",
    "    for item in lst:\n",
    "        if item == target:\n",
    "            return True\n",
    "    return False\n",
    "\n",
    "# Example usage\n",
    "my_list = [1, 2, 3, 4, 5]\n",
    "number_to_find = 3\n",
    "found = search_number(my_list, number_to_find)\n",
    "if found:\n",
    "    print(\"Number\", number_to_find, \"found in the list.\")\n",
    "else:\n",
    "    print(\"Number\", number_to_find, \"not found in the list.\")\n",
    "\n",
    "\n"
   ]
  },
  {
   "cell_type": "code",
   "execution_count": null,
   "id": "1b79e970",
   "metadata": {},
   "outputs": [],
   "source": []
  }
 ],
 "metadata": {
  "kernelspec": {
   "display_name": "Python 3 (ipykernel)",
   "language": "python",
   "name": "python3"
  },
  "language_info": {
   "codemirror_mode": {
    "name": "ipython",
    "version": 3
   },
   "file_extension": ".py",
   "mimetype": "text/x-python",
   "name": "python",
   "nbconvert_exporter": "python",
   "pygments_lexer": "ipython3",
   "version": "3.9.13"
  }
 },
 "nbformat": 4,
 "nbformat_minor": 5
}
