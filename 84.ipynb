{
 "cells": [
  {
   "cell_type": "markdown",
   "id": "5dad799f",
   "metadata": {},
   "source": [
    "# Define a class named Shape and its subclass Square. The Square class has an init function which takes a length as argument. Both classes have a area function which can print the area of the shape where Shape's area is 0 by default."
   ]
  },
  {
   "cell_type": "code",
   "execution_count": 1,
   "id": "6c565104",
   "metadata": {},
   "outputs": [
    {
     "name": "stdout",
     "output_type": "stream",
     "text": [
      "The area of the shape is: 0\n",
      "The area of the square is: 25\n"
     ]
    }
   ],
   "source": [
    "class Shape:\n",
    "    def __init__(self):\n",
    "        self.area = 0\n",
    "\n",
    "    def calculate_area(self):\n",
    "        print(\"The area of the shape is:\", self.area)\n",
    "\n",
    "\n",
    "class Square(Shape):\n",
    "    def __init__(self, length):\n",
    "        super().__init__()\n",
    "        self.length = length\n",
    "\n",
    "    def calculate_area(self):\n",
    "        self.area = self.length ** 2\n",
    "        print(\"The area of the square is:\", self.area)\n",
    "\n",
    "\n",
    "# Example usage:\n",
    "shape = Shape()\n",
    "shape.calculate_area()  # Output: The area of the shape is: 0\n",
    "\n",
    "square = Square(5)\n",
    "square.calculate_area()  # Output: The area of the square is: 25\n"
   ]
  },
  {
   "cell_type": "code",
   "execution_count": null,
   "id": "adb03392",
   "metadata": {},
   "outputs": [],
   "source": []
  }
 ],
 "metadata": {
  "kernelspec": {
   "display_name": "Python 3 (ipykernel)",
   "language": "python",
   "name": "python3"
  },
  "language_info": {
   "codemirror_mode": {
    "name": "ipython",
    "version": 3
   },
   "file_extension": ".py",
   "mimetype": "text/x-python",
   "name": "python",
   "nbconvert_exporter": "python",
   "pygments_lexer": "ipython3",
   "version": "3.9.13"
  }
 },
 "nbformat": 4,
 "nbformat_minor": 5
}
