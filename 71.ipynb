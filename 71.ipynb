{
 "cells": [
  {
   "cell_type": "markdown",
   "id": "21be3cfb",
   "metadata": {},
   "source": [
    "# Write a program that can sort a given unsorted list. Dont use any built in function for sorting.\n"
   ]
  },
  {
   "cell_type": "code",
   "execution_count": 26,
   "id": "77816f64",
   "metadata": {},
   "outputs": [
    {
     "name": "stdout",
     "output_type": "stream",
     "text": [
      "Unsorted list: [7, 2, 5, 1, 9, 3]\n",
      "Sorted list: [1, 2, 3, 5, 7, 9]\n"
     ]
    }
   ],
   "source": [
    "def insertion_sort(arr):\n",
    "    for i in range(1, len(arr)):\n",
    "        key = arr[i]\n",
    "        j = i - 1\n",
    "        while j >= 0 and arr[j] > key:\n",
    "            arr[j + 1] = arr[j]\n",
    "            j -= 1\n",
    "        arr[j + 1] = key\n",
    "\n",
    "# Test the sorting function\n",
    "unsorted_list = [7, 2, 5, 1, 9, 3]\n",
    "print(\"Unsorted list:\", unsorted_list)\n",
    "insertion_sort(unsorted_list)\n",
    "print(\"Sorted list:\", unsorted_list)\n",
    "\n"
   ]
  },
  {
   "cell_type": "code",
   "execution_count": null,
   "id": "40efd4f3",
   "metadata": {},
   "outputs": [],
   "source": []
  }
 ],
 "metadata": {
  "kernelspec": {
   "display_name": "Python 3 (ipykernel)",
   "language": "python",
   "name": "python3"
  },
  "language_info": {
   "codemirror_mode": {
    "name": "ipython",
    "version": 3
   },
   "file_extension": ".py",
   "mimetype": "text/x-python",
   "name": "python",
   "nbconvert_exporter": "python",
   "pygments_lexer": "ipython3",
   "version": "3.9.13"
  }
 },
 "nbformat": 4,
 "nbformat_minor": 5
}
