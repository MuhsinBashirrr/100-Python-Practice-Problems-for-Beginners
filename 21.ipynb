{
 "cells": [
  {
   "cell_type": "markdown",
   "id": "644effbf",
   "metadata": {},
   "source": [
    "# Write a program to find the sum of first n numbers, where n will be provided by the user. Eg if the user provides n=10 the output should be 55."
   ]
  },
  {
   "cell_type": "code",
   "execution_count": 5,
   "id": "fa58a3d4",
   "metadata": {},
   "outputs": [
    {
     "name": "stdout",
     "output_type": "stream",
     "text": [
      "Enter a positive integer: 6\n",
      "The sum of the first 6 numbers is 21\n"
     ]
    }
   ],
   "source": [
    "n = int(input(\"Enter a positive integer: \"))\n",
    "\n",
    "# Perform input validation to ensure n is a positive integer\n",
    "while n <= 0:\n",
    "    print(\"Invalid input. Please enter a positive integer.\")\n",
    "    n = int(input(\"Enter a positive integer: \"))\n",
    "\n",
    "# Calculate the sum using the formula: sum = n * (n + 1) / 2\n",
    "sum_of_numbers = n * (n + 1) // 2\n",
    "\n",
    "print(\"The sum of the first\", n, \"numbers is\", sum_of_numbers)\n"
   ]
  },
  {
   "cell_type": "code",
   "execution_count": null,
   "id": "584687a0",
   "metadata": {},
   "outputs": [],
   "source": []
  }
 ],
 "metadata": {
  "kernelspec": {
   "display_name": "Python 3 (ipykernel)",
   "language": "python",
   "name": "python3"
  },
  "language_info": {
   "codemirror_mode": {
    "name": "ipython",
    "version": 3
   },
   "file_extension": ".py",
   "mimetype": "text/x-python",
   "name": "python",
   "nbconvert_exporter": "python",
   "pygments_lexer": "ipython3",
   "version": "3.9.13"
  }
 },
 "nbformat": 4,
 "nbformat_minor": 5
}
