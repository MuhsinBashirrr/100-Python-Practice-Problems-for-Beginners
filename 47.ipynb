{
 "cells": [
  {
   "cell_type": "markdown",
   "id": "d4f4bafd",
   "metadata": {},
   "source": [
    "# Count the frequency of a particular character in a provided string. Eg 'hello how are you' is the string, the frequency of h in this string is 2. "
   ]
  },
  {
   "cell_type": "code",
   "execution_count": 1,
   "id": "ab12d164",
   "metadata": {},
   "outputs": [
    {
     "name": "stdout",
     "output_type": "stream",
     "text": [
      "Enter a string: muhsinman\n",
      "Enter a character to count: m\n",
      "Frequency of m in the string: 2\n"
     ]
    }
   ],
   "source": [
    "def count_character_frequency(string, character):\n",
    "    count = 0\n",
    "    for char in string:\n",
    "        if char == character:\n",
    "            count += 1\n",
    "    return count\n",
    "\n",
    "\n",
    "input_string = input(\"Enter a string: \")\n",
    "input_character = input(\"Enter a character to count: \")\n",
    "frequency = count_character_frequency(input_string, input_character)\n",
    "print(\"Frequency of\", input_character, \"in the string:\", frequency)\n"
   ]
  }
 ],
 "metadata": {
  "kernelspec": {
   "display_name": "Python 3 (ipykernel)",
   "language": "python",
   "name": "python3"
  },
  "language_info": {
   "codemirror_mode": {
    "name": "ipython",
    "version": 3
   },
   "file_extension": ".py",
   "mimetype": "text/x-python",
   "name": "python",
   "nbconvert_exporter": "python",
   "pygments_lexer": "ipython3",
   "version": "3.9.13"
  }
 },
 "nbformat": 4,
 "nbformat_minor": 5
}
