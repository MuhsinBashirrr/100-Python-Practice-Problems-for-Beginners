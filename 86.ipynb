{
 "cells": [
  {
   "cell_type": "markdown",
   "id": "16f40e31",
   "metadata": {},
   "source": [
    "# Define a function which can generate a list where the values are square of numbers between 1 and 20 (both included). Then the function needs to print the last 5 elements in the list."
   ]
  },
  {
   "cell_type": "code",
   "execution_count": 15,
   "id": "827c356f",
   "metadata": {},
   "outputs": [
    {
     "name": "stdout",
     "output_type": "stream",
     "text": [
      "[256, 289, 324, 361, 400]\n"
     ]
    }
   ],
   "source": [
    "def generate_and_print_squares():\n",
    "    square_list = []\n",
    "    for num in range(1, 21):\n",
    "        square = num ** 2\n",
    "        square_list.append(square)\n",
    "    \n",
    "    last_five = square_list[-5:]\n",
    "    print(last_five)\n",
    "generate_and_print_squares()    \n"
   ]
  },
  {
   "cell_type": "code",
   "execution_count": null,
   "id": "297158d8",
   "metadata": {},
   "outputs": [],
   "source": []
  }
 ],
 "metadata": {
  "kernelspec": {
   "display_name": "Python 3 (ipykernel)",
   "language": "python",
   "name": "python3"
  },
  "language_info": {
   "codemirror_mode": {
    "name": "ipython",
    "version": 3
   },
   "file_extension": ".py",
   "mimetype": "text/x-python",
   "name": "python",
   "nbconvert_exporter": "python",
   "pygments_lexer": "ipython3",
   "version": "3.9.13"
  }
 },
 "nbformat": 4,
 "nbformat_minor": 5
}
