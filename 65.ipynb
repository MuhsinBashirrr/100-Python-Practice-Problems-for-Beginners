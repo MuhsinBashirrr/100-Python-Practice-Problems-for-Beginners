{
 "cells": [
  {
   "cell_type": "markdown",
   "id": "eafe68c3",
   "metadata": {},
   "source": [
    "# Write a program that can perform union and intersection on 2 given list. \n"
   ]
  },
  {
   "cell_type": "code",
   "execution_count": 20,
   "id": "520a0874",
   "metadata": {},
   "outputs": [
    {
     "name": "stdout",
     "output_type": "stream",
     "text": [
      "Union: [1, 2, 3, 4, 5, 6, 7, 8]\n",
      "Intersection: [4, 5]\n"
     ]
    }
   ],
   "source": [
    "def union(list1, list2):\n",
    "    union_list = list(set(list1) | set(list2))\n",
    "    return union_list\n",
    "\n",
    "def intersection(list1, list2):\n",
    "    intersection_list = list(set(list1) & set(list2))\n",
    "    return intersection_list\n",
    "\n",
    "# Example usage\n",
    "list1 = [1, 2, 3, 4, 5]\n",
    "list2 = [4, 5, 6, 7, 8]\n",
    "union_result = union(list1, list2)\n",
    "intersection_result = intersection(list1, list2)\n",
    "print(\"Union:\", union_result)\n",
    "print(\"Intersection:\", intersection_result)\n",
    "\n"
   ]
  },
  {
   "cell_type": "code",
   "execution_count": null,
   "id": "456152f0",
   "metadata": {},
   "outputs": [],
   "source": []
  }
 ],
 "metadata": {
  "kernelspec": {
   "display_name": "Python 3 (ipykernel)",
   "language": "python",
   "name": "python3"
  },
  "language_info": {
   "codemirror_mode": {
    "name": "ipython",
    "version": 3
   },
   "file_extension": ".py",
   "mimetype": "text/x-python",
   "name": "python",
   "nbconvert_exporter": "python",
   "pygments_lexer": "ipython3",
   "version": "3.9.13"
  }
 },
 "nbformat": 4,
 "nbformat_minor": 5
}
