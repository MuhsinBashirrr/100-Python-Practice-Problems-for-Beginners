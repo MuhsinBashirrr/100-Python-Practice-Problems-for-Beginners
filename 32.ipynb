{
 "cells": [
  {
   "cell_type": "markdown",
   "id": "bf56cbaf",
   "metadata": {},
   "source": [
    "# Print the first 20 numbers of a Fibonacci series."
   ]
  },
  {
   "cell_type": "code",
   "execution_count": 5,
   "id": "62c3604d",
   "metadata": {},
   "outputs": [
    {
     "name": "stdout",
     "output_type": "stream",
     "text": [
      "0\n",
      "1\n",
      "1\n",
      "2\n",
      "3\n",
      "5\n",
      "8\n",
      "13\n",
      "21\n",
      "34\n",
      "55\n",
      "89\n",
      "144\n",
      "233\n",
      "377\n",
      "610\n",
      "987\n",
      "1597\n",
      "2584\n",
      "4181\n"
     ]
    }
   ],
   "source": [
    "def fibonacci(n):\n",
    "    sequence = [0, 1]  \n",
    "\n",
    "    \n",
    "    for i in range(2, n):\n",
    "        next_num = sequence[i - 1] + sequence[i - 2]\n",
    "        sequence.append(next_num)\n",
    "\n",
    "    return sequence\n",
    "\n",
    "\n",
    "fibonacci_sequence = fibonacci(20)\n",
    "for number in fibonacci_sequence:\n",
    "    print(number)\n"
   ]
  },
  {
   "cell_type": "code",
   "execution_count": null,
   "id": "561cc8c9",
   "metadata": {},
   "outputs": [],
   "source": []
  }
 ],
 "metadata": {
  "kernelspec": {
   "display_name": "Python 3 (ipykernel)",
   "language": "python",
   "name": "python3"
  },
  "language_info": {
   "codemirror_mode": {
    "name": "ipython",
    "version": 3
   },
   "file_extension": ".py",
   "mimetype": "text/x-python",
   "name": "python",
   "nbconvert_exporter": "python",
   "pygments_lexer": "ipython3",
   "version": "3.9.13"
  }
 },
 "nbformat": 4,
 "nbformat_minor": 5
}
