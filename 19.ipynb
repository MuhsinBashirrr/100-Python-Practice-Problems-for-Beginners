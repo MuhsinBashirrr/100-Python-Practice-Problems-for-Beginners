{
 "cells": [
  {
   "cell_type": "markdown",
   "id": "072adf06",
   "metadata": {},
   "source": [
    "# Write a program that will give you the in hand salary after deduction of HRA(10%),DA(5%),PF(3%), and tax(if salary is between 5-10 lakh–10%),(11-20lakh–20%),(20< _   – 30%)(0-1lakh print k).Write a program that will give you the in hand salary after deduction of HRA(10%),DA(5%),PF(3%), and tax(if salary is between 5-10 lakh–10%),(11-20lakh–20%),(20< _   – 30%)(0-1lakh print k)."
   ]
  },
  {
   "cell_type": "code",
   "execution_count": 1,
   "id": "3498475f",
   "metadata": {},
   "outputs": [
    {
     "name": "stdout",
     "output_type": "stream",
     "text": [
      "Enter your salary: 200000\n",
      "In-hand salary:  147600.0\n"
     ]
    }
   ],
   "source": [
    "def calculate_in_hand_salary(salary):\n",
    "    hra = 0.10 * salary\n",
    "    da = 0.05 * salary\n",
    "    pf = 0.03 * salary\n",
    "\n",
    "    taxable_salary = salary - (hra + da + pf)\n",
    "    tax = 0\n",
    "\n",
    "    if 100000 <= taxable_salary < 500000:\n",
    "        tax = 0.10 * taxable_salary\n",
    "    elif 500000 <= taxable_salary < 1000000:\n",
    "        tax = 0.20 * taxable_salary\n",
    "    elif taxable_salary >= 1000000:\n",
    "        tax = 0.30 * taxable_salary\n",
    "\n",
    "    in_hand_salary = salary - (hra + da + pf + tax)\n",
    "    return in_hand_salary\n",
    "\n",
    "\n",
    "# Test the function\n",
    "salary = float(input(\"Enter your salary: \"))\n",
    "in_hand_salary = calculate_in_hand_salary(salary)\n",
    "print(\"In-hand salary: \", in_hand_salary)\n"
   ]
  },
  {
   "cell_type": "code",
   "execution_count": null,
   "id": "1c03ff46",
   "metadata": {},
   "outputs": [],
   "source": []
  }
 ],
 "metadata": {
  "kernelspec": {
   "display_name": "Python 3 (ipykernel)",
   "language": "python",
   "name": "python3"
  },
  "language_info": {
   "codemirror_mode": {
    "name": "ipython",
    "version": 3
   },
   "file_extension": ".py",
   "mimetype": "text/x-python",
   "name": "python",
   "nbconvert_exporter": "python",
   "pygments_lexer": "ipython3",
   "version": "3.9.13"
  }
 },
 "nbformat": 4,
 "nbformat_minor": 5
}
