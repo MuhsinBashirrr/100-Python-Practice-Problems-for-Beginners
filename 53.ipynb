{
 "cells": [
  {
   "cell_type": "markdown",
   "id": "ad9e25d1",
   "metadata": {},
   "source": [
    "# Write a python program to convert a string to title case without using the title()"
   ]
  },
  {
   "cell_type": "code",
   "execution_count": 7,
   "id": "2d298d4f",
   "metadata": {},
   "outputs": [
    {
     "name": "stdout",
     "output_type": "stream",
     "text": [
      "Enter a string: muhsin\n",
      "Result: Muhsin\n"
     ]
    }
   ],
   "source": [
    "def convert_to_title_case(string):\n",
    "    words = string.split()\n",
    "    title_case_words = []\n",
    "    \n",
    "    for word in words:\n",
    "        title_case_words.append(word[0].upper() + word[1:].lower())\n",
    "    \n",
    "    return ' '.join(title_case_words)\n",
    "\n",
    "# Test the function\n",
    "input_string = input(\"Enter a string: \")\n",
    "\n",
    "result = convert_to_title_case(input_string)\n",
    "print(\"Result:\", result)\n"
   ]
  },
  {
   "cell_type": "code",
   "execution_count": null,
   "id": "22b93862",
   "metadata": {},
   "outputs": [],
   "source": []
  }
 ],
 "metadata": {
  "kernelspec": {
   "display_name": "Python 3 (ipykernel)",
   "language": "python",
   "name": "python3"
  },
  "language_info": {
   "codemirror_mode": {
    "name": "ipython",
    "version": 3
   },
   "file_extension": ".py",
   "mimetype": "text/x-python",
   "name": "python",
   "nbconvert_exporter": "python",
   "pygments_lexer": "ipython3",
   "version": "3.9.13"
  }
 },
 "nbformat": 4,
 "nbformat_minor": 5
}
