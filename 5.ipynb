{
 "cells": [
  {
   "cell_type": "markdown",
   "id": "20a51562",
   "metadata": {},
   "source": [
    "# Write a program that will reverse a four digit number.Also it checks whether the reverse is true."
   ]
  },
  {
   "cell_type": "code",
   "execution_count": 1,
   "id": "eec14296",
   "metadata": {},
   "outputs": [
    {
     "name": "stdout",
     "output_type": "stream",
     "text": [
      "Enter a four dogit number :1234\n",
      "The reverse of 1234 is 4321, which is not equal to the original number.\n"
     ]
    }
   ],
   "source": [
    "num = int(input(\"Enter a four dogit number :\"))\n",
    "reverse_num = 0\n",
    "temp_num = num\n",
    "while temp_num>0:\n",
    "    remainder = temp_num%10\n",
    "    reverse_num =(reverse_num *10)+remainder\n",
    "    temp_num = temp_num//10\n",
    "if reverse_num == num:\n",
    "    print(f\"The reverse of {num} is {reverse_num}, which is equal to the original number.\")\n",
    "else:\n",
    "    print(f\"The reverse of {num} is {reverse_num}, which is not equal to the original number.\")\n",
    "    \n",
    "    \n",
    "    \n"
   ]
  },
  {
   "cell_type": "code",
   "execution_count": null,
   "id": "f2d1b9d8",
   "metadata": {},
   "outputs": [],
   "source": []
  }
 ],
 "metadata": {
  "kernelspec": {
   "display_name": "Python 3 (ipykernel)",
   "language": "python",
   "name": "python3"
  },
  "language_info": {
   "codemirror_mode": {
    "name": "ipython",
    "version": 3
   },
   "file_extension": ".py",
   "mimetype": "text/x-python",
   "name": "python",
   "nbconvert_exporter": "python",
   "pygments_lexer": "ipython3",
   "version": "3.9.13"
  }
 },
 "nbformat": 4,
 "nbformat_minor": 5
}
