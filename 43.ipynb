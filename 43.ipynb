{
 "cells": [
  {
   "cell_type": "markdown",
   "id": "4a37a867",
   "metadata": {},
   "source": [
    "# Write a python program that accepts 2 numbers from the user a numerator and a denominator and then simplifies it:::Eg if the num = 5, den = 15 the answer should be ⅓:::::::Eg if the num = 6, den = 9 the answer should be ⅔"
   ]
  },
  {
   "cell_type": "code",
   "execution_count": 4,
   "id": "72131609",
   "metadata": {},
   "outputs": [
    {
     "name": "stdout",
     "output_type": "stream",
     "text": [
      "Enter the numerator: 6\n",
      "Enter the denominator: 2\n",
      "Simplified fraction: 3/1\n"
     ]
    }
   ],
   "source": [
    "def simplify_fraction(num, den):\n",
    "    def gcd(a, b):\n",
    "        while b != 0:\n",
    "            a, b = b, a % b\n",
    "        return a\n",
    "\n",
    "    greatest_common_divisor = gcd(num, den)\n",
    "    simplified_num = num // greatest_common_divisor\n",
    "    simplified_den = den // greatest_common_divisor\n",
    "\n",
    "    return simplified_num, simplified_den\n",
    "\n",
    "# Get input from the user\n",
    "numerator = int(input(\"Enter the numerator: \"))\n",
    "denominator = int(input(\"Enter the denominator: \"))\n",
    "\n",
    "# Simplify the fraction\n",
    "simplified_num, simplified_den = simplify_fraction(numerator, denominator)\n",
    "\n",
    "# Display the simplified fraction\n",
    "print(f\"Simplified fraction: {simplified_num}/{simplified_den}\")\n",
    "\n",
    "\n"
   ]
  },
  {
   "cell_type": "code",
   "execution_count": null,
   "id": "27bac8ce",
   "metadata": {},
   "outputs": [],
   "source": []
  }
 ],
 "metadata": {
  "kernelspec": {
   "display_name": "Python 3 (ipykernel)",
   "language": "python",
   "name": "python3"
  },
  "language_info": {
   "codemirror_mode": {
    "name": "ipython",
    "version": 3
   },
   "file_extension": ".py",
   "mimetype": "text/x-python",
   "name": "python",
   "nbconvert_exporter": "python",
   "pygments_lexer": "ipython3",
   "version": "3.9.13"
  }
 },
 "nbformat": 4,
 "nbformat_minor": 5
}
