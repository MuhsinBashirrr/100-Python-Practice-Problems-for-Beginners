{
 "cells": [
  {
   "cell_type": "markdown",
   "id": "489a3756",
   "metadata": {},
   "source": [
    "# Write a function that accepts a string and returns the number of upper case chars and lower case chars as a dictionary."
   ]
  },
  {
   "cell_type": "code",
   "execution_count": 4,
   "id": "67c64a80",
   "metadata": {},
   "outputs": [],
   "source": [
    "def count_chars(string):\n",
    "    char_count = {\n",
    "        'uppercase': 0,\n",
    "        'lowercase': 0\n",
    "    }\n",
    "\n",
    "    for char in string:\n",
    "        if char.isupper():\n",
    "            char_count['uppercase'] += 1\n",
    "        elif char.islower():\n",
    "            char_count['lowercase'] += 1\n",
    "\n",
    "    return char_count\n"
   ]
  },
  {
   "cell_type": "code",
   "execution_count": 5,
   "id": "fd94d195",
   "metadata": {},
   "outputs": [
    {
     "name": "stdout",
     "output_type": "stream",
     "text": [
      "{'uppercase': 2, 'lowercase': 8}\n"
     ]
    }
   ],
   "source": [
    "text = \"Hello, World!\"\n",
    "result = count_chars(text)\n",
    "print(result)\n"
   ]
  },
  {
   "cell_type": "code",
   "execution_count": null,
   "id": "39c365dd",
   "metadata": {},
   "outputs": [],
   "source": []
  }
 ],
 "metadata": {
  "kernelspec": {
   "display_name": "Python 3 (ipykernel)",
   "language": "python",
   "name": "python3"
  },
  "language_info": {
   "codemirror_mode": {
    "name": "ipython",
    "version": 3
   },
   "file_extension": ".py",
   "mimetype": "text/x-python",
   "name": "python",
   "nbconvert_exporter": "python",
   "pygments_lexer": "ipython3",
   "version": "3.9.13"
  }
 },
 "nbformat": 4,
 "nbformat_minor": 5
}
