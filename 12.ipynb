{
 "cells": [
  {
   "cell_type": "markdown",
   "id": "b19db096",
   "metadata": {},
   "source": [
    "# Write a program to find the volume of the cylinder. Also find the cost when ,when the cost of 1litre milk is 40Rs."
   ]
  },
  {
   "cell_type": "code",
   "execution_count": 1,
   "id": "182b0051",
   "metadata": {},
   "outputs": [
    {
     "name": "stdout",
     "output_type": "stream",
     "text": [
      "Enter the radius of the cylinder in cm: 3\n",
      "Enter the height of the cylinder in cm: 10\n",
      "The volume of the cylinder is 282.74 cubic centimeters.\n",
      "The cost of filling the cylinder with milk is Rs. 11.31.\n"
     ]
    }
   ],
   "source": [
    "import math\n",
    "\n",
    "\n",
    "radius = float(input(\"Enter the radius of the cylinder in cm: \"))\n",
    "height = float(input(\"Enter the height of the cylinder in cm: \"))\n",
    "cost_per_liter = 40.0\n",
    "\n",
    "volume = math.pi * radius ** 2 * height\n",
    "\n",
    "cost = volume / 1000.0 * cost_per_liter\n",
    "\n",
    "print(\"The volume of the cylinder is {:.2f} cubic centimeters.\".format(volume))\n",
    "print(\"The cost of filling the cylinder with milk is Rs. {:.2f}.\".format(cost))\n"
   ]
  },
  {
   "cell_type": "code",
   "execution_count": null,
   "id": "5e499a44",
   "metadata": {},
   "outputs": [],
   "source": []
  }
 ],
 "metadata": {
  "kernelspec": {
   "display_name": "Python 3 (ipykernel)",
   "language": "python",
   "name": "python3"
  },
  "language_info": {
   "codemirror_mode": {
    "name": "ipython",
    "version": 3
   },
   "file_extension": ".py",
   "mimetype": "text/x-python",
   "name": "python",
   "nbconvert_exporter": "python",
   "pygments_lexer": "ipython3",
   "version": "3.9.13"
  }
 },
 "nbformat": 4,
 "nbformat_minor": 5
}
