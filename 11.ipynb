{
 "cells": [
  {
   "cell_type": "markdown",
   "id": "51ce7277",
   "metadata": {},
   "source": [
    "# Write a program to find the simple interest when the value of principle,rate of interest and time period is given."
   ]
  },
  {
   "cell_type": "code",
   "execution_count": 1,
   "id": "a823fc9f",
   "metadata": {},
   "outputs": [
    {
     "name": "stdout",
     "output_type": "stream",
     "text": [
      "Enter the principle amount: 56000\n",
      "Enter the rate of interest: 10\n",
      "Enter the time period in years: 3\n",
      "Simple Interest =  16800.0\n"
     ]
    }
   ],
   "source": [
    "principle = float(input(\"Enter the principle amount: \"))\n",
    "rate = float(input(\"Enter the rate of interest: \"))\n",
    "time = float(input(\"Enter the time period in years: \"))\n",
    "\n",
    "simple_interest = (principle * rate * time) / 100\n",
    "\n",
    "print(\"Simple Interest = \", simple_interest)\n"
   ]
  },
  {
   "cell_type": "code",
   "execution_count": null,
   "id": "c29c89db",
   "metadata": {},
   "outputs": [],
   "source": []
  }
 ],
 "metadata": {
  "kernelspec": {
   "display_name": "Python 3 (ipykernel)",
   "language": "python",
   "name": "python3"
  },
  "language_info": {
   "codemirror_mode": {
    "name": "ipython",
    "version": 3
   },
   "file_extension": ".py",
   "mimetype": "text/x-python",
   "name": "python",
   "nbconvert_exporter": "python",
   "pygments_lexer": "ipython3",
   "version": "3.9.13"
  }
 },
 "nbformat": 4,
 "nbformat_minor": 5
}
