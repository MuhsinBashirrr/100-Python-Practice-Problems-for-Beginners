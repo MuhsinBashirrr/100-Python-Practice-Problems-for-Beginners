{
 "cells": [
  {
   "cell_type": "markdown",
   "id": "c98048d9",
   "metadata": {},
   "source": [
    "# Write a program that can convert a 2D list to 1D listWrite a program that can print .\n"
   ]
  },
  {
   "cell_type": "code",
   "execution_count": 19,
   "id": "5c1b8350",
   "metadata": {},
   "outputs": [
    {
     "name": "stdout",
     "output_type": "stream",
     "text": [
      "[1, 2, 3, 4, 5, 6, 7, 8, 9]\n"
     ]
    }
   ],
   "source": [
    "def flatten_list(two_d_list):\n",
    "    one_d_list = []\n",
    "    for sublist in two_d_list:\n",
    "        one_d_list.extend(sublist)\n",
    "    return one_d_list\n",
    "\n",
    "# Example usage\n",
    "two_d_list = [[1, 2, 3], [4, 5, 6], [7, 8, 9]]\n",
    "one_d_list = flatten_list(two_d_list)\n",
    "print(one_d_list)\n"
   ]
  },
  {
   "cell_type": "code",
   "execution_count": null,
   "id": "16ef8a34",
   "metadata": {},
   "outputs": [],
   "source": []
  }
 ],
 "metadata": {
  "kernelspec": {
   "display_name": "Python 3 (ipykernel)",
   "language": "python",
   "name": "python3"
  },
  "language_info": {
   "codemirror_mode": {
    "name": "ipython",
    "version": 3
   },
   "file_extension": ".py",
   "mimetype": "text/x-python",
   "name": "python",
   "nbconvert_exporter": "python",
   "pygments_lexer": "ipython3",
   "version": "3.9.13"
  }
 },
 "nbformat": 4,
 "nbformat_minor": 5
}
