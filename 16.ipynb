{
 "cells": [
  {
   "cell_type": "markdown",
   "id": "e7d30bf7",
   "metadata": {},
   "source": [
    "# Write a program that will take three digits from the user and add the square of each digit."
   ]
  },
  {
   "cell_type": "code",
   "execution_count": 2,
   "id": "fa39e422",
   "metadata": {},
   "outputs": [
    {
     "name": "stdout",
     "output_type": "stream",
     "text": [
      "Enter three digits (separated by spaces): 3 5 4\n",
      "Sum of squares of digits: 50\n"
     ]
    }
   ],
   "source": [
    "def add_square_digits():\n",
    "    digits = input(\"Enter three digits (separated by spaces): \").split()\n",
    "    if len(digits) != 3:\n",
    "        print(\"Please enter exactly three digits.\")\n",
    "        return\n",
    "\n",
    "    sum_of_squares = 0\n",
    "    for digit in digits:\n",
    "        if not digit.isdigit():\n",
    "            print(\"Invalid input. Please enter only digits.\")\n",
    "            return\n",
    "        digit = int(digit)\n",
    "        sum_of_squares += digit ** 2\n",
    "\n",
    "    print(\"Sum of squares of digits:\", sum_of_squares)\n",
    "\n",
    "\n",
    "add_square_digits()\n"
   ]
  },
  {
   "cell_type": "code",
   "execution_count": null,
   "id": "6be7bd7b",
   "metadata": {},
   "outputs": [],
   "source": []
  }
 ],
 "metadata": {
  "kernelspec": {
   "display_name": "Python 3 (ipykernel)",
   "language": "python",
   "name": "python3"
  },
  "language_info": {
   "codemirror_mode": {
    "name": "ipython",
    "version": 3
   },
   "file_extension": ".py",
   "mimetype": "text/x-python",
   "name": "python",
   "nbconvert_exporter": "python",
   "pygments_lexer": "ipython3",
   "version": "3.9.13"
  }
 },
 "nbformat": 4,
 "nbformat_minor": 5
}
