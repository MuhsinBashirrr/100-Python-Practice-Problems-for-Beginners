{
 "cells": [
  {
   "cell_type": "markdown",
   "id": "7aefe1ff",
   "metadata": {},
   "source": [
    "# Write a program which can remove a particular character from a string. "
   ]
  },
  {
   "cell_type": "code",
   "execution_count": 1,
   "id": "550e8edb",
   "metadata": {},
   "outputs": [
    {
     "name": "stdout",
     "output_type": "stream",
     "text": [
      "Enter a string: muhsin\n",
      "Enter the character to remove: i\n",
      "Result: muhsn\n"
     ]
    }
   ],
   "source": [
    "def remove_character(string, char):\n",
    "    new_string = \"\"\n",
    "    for c in string:\n",
    "        if c != char:\n",
    "            new_string += c\n",
    "    return new_string\n",
    "\n",
    "\n",
    "input_string = input(\"Enter a string: \")\n",
    "character_to_remove = input(\"Enter the character to remove: \")\n",
    "\n",
    "result = remove_character(input_string, character_to_remove)\n",
    "print(\"Result:\", result)\n"
   ]
  },
  {
   "cell_type": "code",
   "execution_count": null,
   "id": "68007365",
   "metadata": {},
   "outputs": [],
   "source": []
  }
 ],
 "metadata": {
  "kernelspec": {
   "display_name": "Python 3 (ipykernel)",
   "language": "python",
   "name": "python3"
  },
  "language_info": {
   "codemirror_mode": {
    "name": "ipython",
    "version": 3
   },
   "file_extension": ".py",
   "mimetype": "text/x-python",
   "name": "python",
   "nbconvert_exporter": "python",
   "pygments_lexer": "ipython3",
   "version": "3.9.13"
  }
 },
 "nbformat": 4,
 "nbformat_minor": 5
}
