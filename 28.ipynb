{
 "cells": [
  {
   "cell_type": "markdown",
   "id": "c70eef3b",
   "metadata": {},
   "source": [
    "# Write a program to print all the unique combinations of 1,2,3 and 4."
   ]
  },
  {
   "cell_type": "code",
   "execution_count": 1,
   "id": "8a11e48b",
   "metadata": {},
   "outputs": [
    {
     "name": "stdout",
     "output_type": "stream",
     "text": [
      "(1, 3)\n",
      "(2, 4)\n",
      "(1, 2)\n",
      "(2,)\n",
      "(3, 4)\n",
      "(1, 2, 3)\n",
      "(4,)\n",
      "(1, 4)\n",
      "(2, 3)\n",
      "(1,)\n",
      "(1, 3, 4)\n",
      "(1, 2, 3, 4)\n",
      "(2, 3, 4)\n",
      "(3,)\n",
      "(1, 2, 4)\n"
     ]
    }
   ],
   "source": [
    "import itertools\n",
    "\n",
    "numbers = [1, 2, 3, 4]\n",
    "\n",
    "# Generate all combinations\n",
    "combinations = []\n",
    "for r in range(1, len(numbers) + 1):\n",
    "    combinations.extend(list(itertools.combinations(numbers, r)))\n",
    "\n",
    "# Print unique combinations\n",
    "for combo in set(combinations):\n",
    "    print(combo)\n"
   ]
  },
  {
   "cell_type": "code",
   "execution_count": null,
   "id": "0885053a",
   "metadata": {},
   "outputs": [],
   "source": []
  }
 ],
 "metadata": {
  "kernelspec": {
   "display_name": "Python 3 (ipykernel)",
   "language": "python",
   "name": "python3"
  },
  "language_info": {
   "codemirror_mode": {
    "name": "ipython",
    "version": 3
   },
   "file_extension": ".py",
   "mimetype": "text/x-python",
   "name": "python",
   "nbconvert_exporter": "python",
   "pygments_lexer": "ipython3",
   "version": "3.9.13"
  }
 },
 "nbformat": 4,
 "nbformat_minor": 5
}
