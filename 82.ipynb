{
 "cells": [
  {
   "cell_type": "markdown",
   "id": "7ecfeec0",
   "metadata": {},
   "source": [
    "# Write a program to solve a classic ancient Chinese puzzle: We count 35 heads and 94 legs among the chickens and rabbits in a farm. How many rabbits and how many chickens do we have?"
   ]
  },
  {
   "cell_type": "code",
   "execution_count": 1,
   "id": "92993bde",
   "metadata": {},
   "outputs": [
    {
     "name": "stdout",
     "output_type": "stream",
     "text": [
      "Number of chickens: 23\n",
      "Number of rabbits: 12\n"
     ]
    }
   ],
   "source": [
    "def solve_puzzle(heads, legs):\n",
    "    for chickens in range(heads + 1):\n",
    "        rabbits = heads - chickens\n",
    "        if (2 * chickens + 4 * rabbits) == legs:\n",
    "            return chickens, rabbits\n",
    "    return None\n",
    "\n",
    "# Input values\n",
    "total_heads = 35\n",
    "total_legs = 94\n",
    "\n",
    "# Solve the puzzle\n",
    "solution = solve_puzzle(total_heads, total_legs)\n",
    "\n",
    "# Print the solution\n",
    "if solution:\n",
    "    chickens, rabbits = solution\n",
    "    print(\"Number of chickens:\", chickens)\n",
    "    print(\"Number of rabbits:\", rabbits)\n",
    "else:\n",
    "    print(\"No solution found.\")\n"
   ]
  },
  {
   "cell_type": "code",
   "execution_count": null,
   "id": "fbb04de4",
   "metadata": {},
   "outputs": [],
   "source": []
  }
 ],
 "metadata": {
  "kernelspec": {
   "display_name": "Python 3 (ipykernel)",
   "language": "python",
   "name": "python3"
  },
  "language_info": {
   "codemirror_mode": {
    "name": "ipython",
    "version": 3
   },
   "file_extension": ".py",
   "mimetype": "text/x-python",
   "name": "python",
   "nbconvert_exporter": "python",
   "pygments_lexer": "ipython3",
   "version": "3.9.13"
  }
 },
 "nbformat": 4,
 "nbformat_minor": 5
}
