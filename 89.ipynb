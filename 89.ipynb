{
 "cells": [
  {
   "cell_type": "markdown",
   "id": "e1a2dfcc",
   "metadata": {},
   "source": [
    "# Please generate a random float where the value is between 5 and 95 using Python math module."
   ]
  },
  {
   "cell_type": "code",
   "execution_count": 1,
   "id": "244b0515",
   "metadata": {},
   "outputs": [
    {
     "name": "stdout",
     "output_type": "stream",
     "text": [
      "77.49\n"
     ]
    }
   ],
   "source": [
    "import random\n",
    "import math\n",
    "\n",
    "random_float = random.random() * 90 + 5\n",
    "random_float = math.floor(random_float * 100) / 100\n",
    "\n",
    "print(random_float)\n"
   ]
  },
  {
   "cell_type": "code",
   "execution_count": null,
   "id": "3581513d",
   "metadata": {},
   "outputs": [],
   "source": []
  }
 ],
 "metadata": {
  "kernelspec": {
   "display_name": "Python 3 (ipykernel)",
   "language": "python",
   "name": "python3"
  },
  "language_info": {
   "codemirror_mode": {
    "name": "ipython",
    "version": 3
   },
   "file_extension": ".py",
   "mimetype": "text/x-python",
   "name": "python",
   "nbconvert_exporter": "python",
   "pygments_lexer": "ipython3",
   "version": "3.9.13"
  }
 },
 "nbformat": 4,
 "nbformat_minor": 5
}
