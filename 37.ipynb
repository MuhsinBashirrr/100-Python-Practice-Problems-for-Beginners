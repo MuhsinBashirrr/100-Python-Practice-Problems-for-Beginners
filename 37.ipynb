{
 "cells": [
  {
   "cell_type": "markdown",
   "id": "f98934b6",
   "metadata": {},
   "source": [
    "# Find the reverse of a number provided by the user(any number of digit) ."
   ]
  },
  {
   "cell_type": "code",
   "execution_count": 1,
   "id": "643b9c3e",
   "metadata": {},
   "outputs": [
    {
     "name": "stdout",
     "output_type": "stream",
     "text": [
      "Enter a number: 67\n",
      "The reverse of 67 is 76\n"
     ]
    }
   ],
   "source": [
    "def reverse_number(num):\n",
    "    reverse = 0\n",
    "    while num > 0:\n",
    "        remainder = num % 10\n",
    "        reverse = (reverse * 10) + remainder\n",
    "        num = num // 10\n",
    "    return reverse\n",
    "\n",
    "\n",
    "num = int(input(\"Enter a number: \"))\n",
    "\n",
    "\n",
    "reversed_num = reverse_number(num)\n",
    "\n",
    "\n",
    "print(\"The reverse of\", num, \"is\", reversed_num)\n"
   ]
  },
  {
   "cell_type": "code",
   "execution_count": null,
   "id": "40ec48b6",
   "metadata": {},
   "outputs": [],
   "source": []
  }
 ],
 "metadata": {
  "kernelspec": {
   "display_name": "Python 3 (ipykernel)",
   "language": "python",
   "name": "python3"
  },
  "language_info": {
   "codemirror_mode": {
    "name": "ipython",
    "version": 3
   },
   "file_extension": ".py",
   "mimetype": "text/x-python",
   "name": "python",
   "nbconvert_exporter": "python",
   "pygments_lexer": "ipython3",
   "version": "3.9.13"
  }
 },
 "nbformat": 4,
 "nbformat_minor": 5
}
