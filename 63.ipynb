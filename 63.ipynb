{
 "cells": [
  {
   "cell_type": "markdown",
   "id": "d73a3850",
   "metadata": {},
   "source": [
    "# Write a program to replace an item with a different item if found in the list.\n"
   ]
  },
  {
   "cell_type": "code",
   "execution_count": 18,
   "id": "c7e763d6",
   "metadata": {},
   "outputs": [
    {
     "name": "stdout",
     "output_type": "stream",
     "text": [
      "[1, 2, 'three', 4, 5]\n"
     ]
    }
   ],
   "source": [
    "def replace_item(list_items, old_item, new_item):\n",
    "    for i in range(len(list_items)):\n",
    "        if list_items[i] == old_item:\n",
    "            list_items[i] = new_item\n",
    "\n",
    "# Example usage\n",
    "my_list = [1, 2, 3, 4, 5]\n",
    "replace_item(my_list, 3, 'three')\n",
    "print(my_list)\n",
    "\n",
    "\n",
    "\n"
   ]
  },
  {
   "cell_type": "code",
   "execution_count": null,
   "id": "396d351c",
   "metadata": {},
   "outputs": [],
   "source": []
  }
 ],
 "metadata": {
  "kernelspec": {
   "display_name": "Python 3 (ipykernel)",
   "language": "python",
   "name": "python3"
  },
  "language_info": {
   "codemirror_mode": {
    "name": "ipython",
    "version": 3
   },
   "file_extension": ".py",
   "mimetype": "text/x-python",
   "name": "python",
   "nbconvert_exporter": "python",
   "pygments_lexer": "ipython3",
   "version": "3.9.13"
  }
 },
 "nbformat": 4,
 "nbformat_minor": 5
}
