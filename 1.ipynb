{
 "cells": [
  {
   "cell_type": "markdown",
   "id": "6a1b0bc8",
   "metadata": {},
   "source": [
    "# User will input (3ages).Find the oldest one"
   ]
  },
  {
   "cell_type": "code",
   "execution_count": 2,
   "id": "88e4b76e",
   "metadata": {},
   "outputs": [
    {
     "name": "stdout",
     "output_type": "stream",
     "text": [
      "Enter the first age :76\n",
      "Enter the second age :54\n",
      "Enter the third age :89\n",
      "89\n"
     ]
    }
   ],
   "source": [
    "a = int(input(\"Enter the first age :\"))\n",
    "b = int(input(\"Enter the second age :\"))\n",
    "c = int(input(\"Enter the third age :\"))\n",
    "\n",
    "max = a\n",
    "if max < b :\n",
    "    max= b\n",
    "if max < c:\n",
    "    max = c\n",
    "print(max)    \n",
    "    "
   ]
  },
  {
   "cell_type": "code",
   "execution_count": null,
   "id": "4dd86a87",
   "metadata": {},
   "outputs": [],
   "source": []
  }
 ],
 "metadata": {
  "kernelspec": {
   "display_name": "Python 3 (ipykernel)",
   "language": "python",
   "name": "python3"
  },
  "language_info": {
   "codemirror_mode": {
    "name": "ipython",
    "version": 3
   },
   "file_extension": ".py",
   "mimetype": "text/x-python",
   "name": "python",
   "nbconvert_exporter": "python",
   "pygments_lexer": "ipython3",
   "version": "3.9.13"
  }
 },
 "nbformat": 4,
 "nbformat_minor": 5
}
