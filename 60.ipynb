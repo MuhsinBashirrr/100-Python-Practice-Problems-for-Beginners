{
 "cells": [
  {
   "cell_type": "markdown",
   "id": "653fcb7b",
   "metadata": {},
   "source": [
    "# Write a program to check if a list is in ascending order or not.\n",
    "\n"
   ]
  },
  {
   "cell_type": "code",
   "execution_count": 14,
   "id": "c8968f3b",
   "metadata": {},
   "outputs": [
    {
     "name": "stdout",
     "output_type": "stream",
     "text": [
      "The list is in ascending order.\n"
     ]
    }
   ],
   "source": [
    "def is_ascending(lst):\n",
    "    for i in range(1, len(lst)):\n",
    "        if lst[i] < lst[i-1]:\n",
    "            return False\n",
    "    return True\n",
    "\n",
    "# Example usage:\n",
    "input_list = [1, 2, 3, 4, 5]\n",
    "is_ascending_order = is_ascending(input_list)\n",
    "if is_ascending_order:\n",
    "    print(\"The list is in ascending order.\")\n",
    "else:\n",
    "    print(\"The list is not in ascending order.\")\n",
    "\n",
    "\n"
   ]
  },
  {
   "cell_type": "code",
   "execution_count": null,
   "id": "d30d23bd",
   "metadata": {},
   "outputs": [],
   "source": []
  }
 ],
 "metadata": {
  "kernelspec": {
   "display_name": "Python 3 (ipykernel)",
   "language": "python",
   "name": "python3"
  },
  "language_info": {
   "codemirror_mode": {
    "name": "ipython",
    "version": 3
   },
   "file_extension": ".py",
   "mimetype": "text/x-python",
   "name": "python",
   "nbconvert_exporter": "python",
   "pygments_lexer": "ipython3",
   "version": "3.9.13"
  }
 },
 "nbformat": 4,
 "nbformat_minor": 5
}
