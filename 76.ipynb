{
 "cells": [
  {
   "cell_type": "markdown",
   "id": "87bb3d88",
   "metadata": {},
   "source": [
    "# Write a program to find histogram of a given set of numbers. Take bin size from user. Print the result in the form of a dictionary."
   ]
  },
  {
   "cell_type": "code",
   "execution_count": 2,
   "id": "1dd61e40",
   "metadata": {},
   "outputs": [
    {
     "name": "stdout",
     "output_type": "stream",
     "text": [
      "Enter a set of numbers (separated by spaces): 1 4 5 67 7 4 3\n",
      "Enter the bin size: 5\n",
      "{0: 4, 1: 2, 13: 1}\n"
     ]
    }
   ],
   "source": [
    "def histogram(numbers, bin_size):\n",
    "    # Initialize an empty dictionary to store the histogram\n",
    "    hist = {}\n",
    "\n",
    "    # Calculate the histogram\n",
    "    for num in numbers:\n",
    "        bin_number = num // bin_size  # Calculate the bin number\n",
    "        if bin_number in hist:\n",
    "            hist[bin_number] += 1\n",
    "        else:\n",
    "            hist[bin_number] = 1\n",
    "\n",
    "    return hist\n",
    "\n",
    "# Get the input from the user\n",
    "numbers = input(\"Enter a set of numbers (separated by spaces): \").split()\n",
    "numbers = [int(num) for num in numbers]  # Convert the input to a list of integers\n",
    "bin_size = int(input(\"Enter the bin size: \"))\n",
    "\n",
    "# Calculate the histogram\n",
    "result = histogram(numbers, bin_size)\n",
    "\n",
    "# Print the histogram as a dictionary\n",
    "print(result)\n"
   ]
  },
  {
   "cell_type": "code",
   "execution_count": null,
   "id": "cbdc9f9c",
   "metadata": {},
   "outputs": [],
   "source": []
  }
 ],
 "metadata": {
  "kernelspec": {
   "display_name": "Python 3 (ipykernel)",
   "language": "python",
   "name": "python3"
  },
  "language_info": {
   "codemirror_mode": {
    "name": "ipython",
    "version": 3
   },
   "file_extension": ".py",
   "mimetype": "text/x-python",
   "name": "python",
   "nbconvert_exporter": "python",
   "pygments_lexer": "ipython3",
   "version": "3.9.13"
  }
 },
 "nbformat": 4,
 "nbformat_minor": 5
}
