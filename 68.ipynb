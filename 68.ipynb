{
 "cells": [
  {
   "cell_type": "markdown",
   "id": "85b8dbad",
   "metadata": {},
   "source": [
    "# Write a program to print the shape of a matrix.   \n"
   ]
  },
  {
   "cell_type": "code",
   "execution_count": 23,
   "id": "d20e5694",
   "metadata": {},
   "outputs": [
    {
     "name": "stdout",
     "output_type": "stream",
     "text": [
      "Matrix shape: 3 rows x 3 columns\n"
     ]
    }
   ],
   "source": [
    "def print_matrix_shape(matrix):\n",
    "    rows = len(matrix)\n",
    "    cols = len(matrix[0]) if matrix else 0\n",
    "\n",
    "    print(f\"Matrix shape: {rows} rows x {cols} columns\")\n",
    "\n",
    "# Example usage\n",
    "matrix = [\n",
    "    [1, 2, 3],\n",
    "    [4, 5, 6],\n",
    "    [7, 8, 9]\n",
    "]\n",
    "\n",
    "print_matrix_shape(matrix)\n",
    "\n",
    "\n"
   ]
  },
  {
   "cell_type": "code",
   "execution_count": null,
   "id": "0ff5c21d",
   "metadata": {},
   "outputs": [],
   "source": []
  }
 ],
 "metadata": {
  "kernelspec": {
   "display_name": "Python 3 (ipykernel)",
   "language": "python",
   "name": "python3"
  },
  "language_info": {
   "codemirror_mode": {
    "name": "ipython",
    "version": 3
   },
   "file_extension": ".py",
   "mimetype": "text/x-python",
   "name": "python",
   "nbconvert_exporter": "python",
   "pygments_lexer": "ipython3",
   "version": "3.9.13"
  }
 },
 "nbformat": 4,
 "nbformat_minor": 5
}
