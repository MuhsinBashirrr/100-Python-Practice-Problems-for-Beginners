{
 "cells": [
  {
   "cell_type": "code",
   "execution_count": 1,
   "id": "397b5bcf",
   "metadata": {},
   "outputs": [],
   "source": [
    "def getAngle(H, M):\n",
    "    hour_angle = 0.5 * ((H % 12) * 60 + M)\n",
    " \n",
    "    minute_angle = 6 * M\n",
    " \n",
    "    angle = abs(hour_angle - minute_angle)\n",
    " \n",
    "    return min(angle, 360 - angle)\n"
   ]
  }
 ],
 "metadata": {
  "kernelspec": {
   "display_name": "Python 3 (ipykernel)",
   "language": "python",
   "name": "python3"
  },
  "language_info": {
   "codemirror_mode": {
    "name": "ipython",
    "version": 3
   },
   "file_extension": ".py",
   "mimetype": "text/x-python",
   "name": "python",
   "nbconvert_exporter": "python",
   "pygments_lexer": "ipython3",
   "version": "3.9.13"
  }
 },
 "nbformat": 4,
 "nbformat_minor": 5
}
