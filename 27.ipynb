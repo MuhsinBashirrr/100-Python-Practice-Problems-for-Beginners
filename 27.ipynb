{
 "cells": [
  {
   "cell_type": "markdown",
   "id": "5251de3d",
   "metadata": {},
   "source": [
    "# The current population of a town is 10000. The population of the town is increasing at the rate of 10% per year. You have to write a program to find out the population at the end of each of the last 10 years. For eg current population is 10000 so the output should be like this:10th year - 10000 9th year - 9000 8th year - 8100 and so on\n"
   ]
  },
  {
   "cell_type": "code",
   "execution_count": 7,
   "id": "25e27705",
   "metadata": {},
   "outputs": [
    {
     "name": "stdout",
     "output_type": "stream",
     "text": [
      "Population at the end of each of the last 10 years:\n",
      "10th year - 10000\n",
      "9th year - 9000.0\n",
      "8th year - 8100.0\n",
      "7th year - 7290.0\n",
      "6th year - 6561.0\n",
      "5th year - 5904.9\n",
      "4th year - 5314.41\n",
      "3th year - 4782.969\n",
      "2th year - 4304.6721\n",
      "1th year - 3874.20489\n"
     ]
    }
   ],
   "source": [
    "\n",
    "population = 10000\n",
    "\n",
    "print(\"Population at the end of each of the last 10 years:\")\n",
    "\n",
    "# Iterate from 10 to 1 (inclusive) using a range with a step of -1\n",
    "for year in range(10, 0, -1):\n",
    "    print(f\"{year}th year - {population}\")\n",
    "    \n",
    "    population = population - (population * 0.1)  # Decrease the population by 10%\n",
    "\n"
   ]
  },
  {
   "cell_type": "code",
   "execution_count": null,
   "id": "9f06c39e",
   "metadata": {},
   "outputs": [],
   "source": []
  }
 ],
 "metadata": {
  "kernelspec": {
   "display_name": "Python 3 (ipykernel)",
   "language": "python",
   "name": "python3"
  },
  "language_info": {
   "codemirror_mode": {
    "name": "ipython",
    "version": 3
   },
   "file_extension": ".py",
   "mimetype": "text/x-python",
   "name": "python",
   "nbconvert_exporter": "python",
   "pygments_lexer": "ipython3",
   "version": "3.9.13"
  }
 },
 "nbformat": 4,
 "nbformat_minor": 5
}
