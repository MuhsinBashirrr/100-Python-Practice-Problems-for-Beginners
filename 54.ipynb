{
 "cells": [
  {
   "cell_type": "markdown",
   "id": "88b5b74c",
   "metadata": {},
   "source": [
    "# Write a python program to find the max item from a list without using the max function"
   ]
  },
  {
   "cell_type": "code",
   "execution_count": 8,
   "id": "615185c7",
   "metadata": {},
   "outputs": [
    {
     "name": "stdout",
     "output_type": "stream",
     "text": [
      "Maximum item: 9\n"
     ]
    }
   ],
   "source": [
    "def find_max(lst):\n",
    "    if not lst:\n",
    "        \n",
    "        return None\n",
    "\n",
    "    max_item = lst[0]  \n",
    "\n",
    "    for item in lst:\n",
    "        if item > max_item:\n",
    "            max_item = item\n",
    "\n",
    "    return max_item\n",
    "\n",
    "\n",
    "my_list = [5, 9, 3, 2, 7]\n",
    "max_item = find_max(my_list)\n",
    "print(\"Maximum item:\", max_item)\n",
    "\n"
   ]
  },
  {
   "cell_type": "code",
   "execution_count": null,
   "id": "95adcf54",
   "metadata": {},
   "outputs": [],
   "source": []
  }
 ],
 "metadata": {
  "kernelspec": {
   "display_name": "Python 3 (ipykernel)",
   "language": "python",
   "name": "python3"
  },
  "language_info": {
   "codemirror_mode": {
    "name": "ipython",
    "version": 3
   },
   "file_extension": ".py",
   "mimetype": "text/x-python",
   "name": "python",
   "nbconvert_exporter": "python",
   "pygments_lexer": "ipython3",
   "version": "3.9.13"
  }
 },
 "nbformat": 4,
 "nbformat_minor": 5
}
