{
 "cells": [
  {
   "cell_type": "markdown",
   "id": "08064f57",
   "metadata": {},
   "source": [
    "# Print all the armstrong numbers in the range of 100 to 1000"
   ]
  },
  {
   "cell_type": "code",
   "execution_count": 6,
   "id": "361500fd",
   "metadata": {},
   "outputs": [
    {
     "name": "stdout",
     "output_type": "stream",
     "text": [
      "Armstrong numbers between 100 and 1000 are:\n",
      "153\n",
      "370\n",
      "371\n",
      "407\n"
     ]
    }
   ],
   "source": [
    "\n",
    "def is_armstrong_number(number):\n",
    "   \n",
    "    num_str = str(number)\n",
    "    \n",
    "    \n",
    "    num_digits = len(num_str)\n",
    "    \n",
    "    \n",
    "    sum_of_cubes = sum(int(digit) ** num_digits for digit in num_str)\n",
    "\n",
    "    if sum_of_cubes == number:\n",
    "        return True\n",
    "    else:\n",
    "        return False\n",
    "\n",
    "\n",
    "start = 100\n",
    "end = 1000\n",
    "\n",
    "print(\"Armstrong numbers between\", start, \"and\", end, \"are:\")\n",
    "\n",
    "\n",
    "for number in range(start, end + 1):\n",
    "    if is_armstrong_number(number):\n",
    "        print(number)\n"
   ]
  },
  {
   "cell_type": "code",
   "execution_count": null,
   "id": "7fac208b",
   "metadata": {},
   "outputs": [],
   "source": []
  }
 ],
 "metadata": {
  "kernelspec": {
   "display_name": "Python 3 (ipykernel)",
   "language": "python",
   "name": "python3"
  },
  "language_info": {
   "codemirror_mode": {
    "name": "ipython",
    "version": 3
   },
   "file_extension": ".py",
   "mimetype": "text/x-python",
   "name": "python",
   "nbconvert_exporter": "python",
   "pygments_lexer": "ipython3",
   "version": "3.9.13"
  }
 },
 "nbformat": 4,
 "nbformat_minor": 5
}
