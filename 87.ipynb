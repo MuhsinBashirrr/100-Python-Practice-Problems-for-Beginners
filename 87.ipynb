{
 "cells": [
  {
   "cell_type": "markdown",
   "id": "d3e0de4f",
   "metadata": {},
   "source": [
    "# Please write a program using generator to print the even numbers between 0 and n in comma separated form while n is input by console."
   ]
  },
  {
   "cell_type": "code",
   "execution_count": 1,
   "id": "563cf46f",
   "metadata": {},
   "outputs": [
    {
     "name": "stdout",
     "output_type": "stream",
     "text": [
      "Enter a number: 5\n",
      "0,2,4\n"
     ]
    }
   ],
   "source": [
    "def even_numbers_generator(n):\n",
    "    for num in range(n+1):\n",
    "        if num % 2 == 0:\n",
    "            yield str(num)\n",
    "\n",
    "n = int(input(\"Enter a number: \"))\n",
    "even_nums = even_numbers_generator(n)\n",
    "print(','.join(even_nums))\n"
   ]
  },
  {
   "cell_type": "code",
   "execution_count": null,
   "id": "e78324a4",
   "metadata": {},
   "outputs": [],
   "source": []
  }
 ],
 "metadata": {
  "kernelspec": {
   "display_name": "Python 3 (ipykernel)",
   "language": "python",
   "name": "python3"
  },
  "language_info": {
   "codemirror_mode": {
    "name": "ipython",
    "version": 3
   },
   "file_extension": ".py",
   "mimetype": "text/x-python",
   "name": "python",
   "nbconvert_exporter": "python",
   "pygments_lexer": "ipython3",
   "version": "3.9.13"
  }
 },
 "nbformat": 4,
 "nbformat_minor": 5
}
