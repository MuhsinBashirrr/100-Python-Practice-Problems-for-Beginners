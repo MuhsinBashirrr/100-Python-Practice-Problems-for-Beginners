{
 "cells": [
  {
   "cell_type": "markdown",
   "id": "21be3cfb",
   "metadata": {},
   "source": [
    "# Assume a list with numbers from 1 to 10 and then convert it into a dictionary where the key would be the numbers of the list and the values would be the square of those numbers.\n"
   ]
  },
  {
   "cell_type": "code",
   "execution_count": 28,
   "id": "77816f64",
   "metadata": {},
   "outputs": [
    {
     "name": "stdout",
     "output_type": "stream",
     "text": [
      "{1: 1, 2: 4, 3: 9, 4: 16, 5: 25, 6: 36, 7: 49, 8: 64, 9: 81, 10: 100}\n"
     ]
    }
   ],
   "source": [
    "numbers = list(range(1, 11))  # Assume a list with numbers from 1 to 10\n",
    "squared_dict = {num: num ** 2 for num in numbers}  # Convert list to dictionary\n",
    "\n",
    "print(squared_dict)  # Print the resulting dictionary\n"
   ]
  },
  {
   "cell_type": "code",
   "execution_count": null,
   "id": "40efd4f3",
   "metadata": {},
   "outputs": [],
   "source": []
  }
 ],
 "metadata": {
  "kernelspec": {
   "display_name": "Python 3 (ipykernel)",
   "language": "python",
   "name": "python3"
  },
  "language_info": {
   "codemirror_mode": {
    "name": "ipython",
    "version": 3
   },
   "file_extension": ".py",
   "mimetype": "text/x-python",
   "name": "python",
   "nbconvert_exporter": "python",
   "pygments_lexer": "ipython3",
   "version": "3.9.13"
  }
 },
 "nbformat": 4,
 "nbformat_minor": 5
}
