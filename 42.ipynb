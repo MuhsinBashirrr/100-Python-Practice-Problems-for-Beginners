{
 "cells": [
  {
   "cell_type": "markdown",
   "id": "e0cf32dd",
   "metadata": {},
   "source": [
    "# Write a python program that keeps on accepting a number from the user until the user enters Zero. Display the sum and average of all the numbers."
   ]
  },
  {
   "cell_type": "code",
   "execution_count": 3,
   "id": "1ef1624f",
   "metadata": {},
   "outputs": [
    {
     "name": "stdout",
     "output_type": "stream",
     "text": [
      "Enter a number (enter 0 to exit): 5\n",
      "Enter a number (enter 0 to exit): 6\n",
      "Enter a number (enter 0 to exit): 78\n",
      "Enter a number (enter 0 to exit): 0\n",
      "Sum of the numbers: 89.0\n",
      "Average of the numbers: 29.666666666666668\n"
     ]
    }
   ],
   "source": [
    "numbers = []\n",
    "sum = 0\n",
    "\n",
    "# Accept numbers until user enters zero\n",
    "while True:\n",
    "    num = float(input(\"Enter a number (enter 0 to exit): \"))\n",
    "    if num == 0:\n",
    "        break\n",
    "    numbers.append(num)\n",
    "    sum += num\n",
    "\n",
    "# Calculate the average\n",
    "average = sum / len(numbers)\n",
    "\n",
    "# Display the sum and average\n",
    "print(\"Sum of the numbers:\", sum)\n",
    "print(\"Average of the numbers:\", average)\n",
    "\n",
    "\n"
   ]
  },
  {
   "cell_type": "code",
   "execution_count": null,
   "id": "eed484d7",
   "metadata": {},
   "outputs": [],
   "source": []
  }
 ],
 "metadata": {
  "kernelspec": {
   "display_name": "Python 3 (ipykernel)",
   "language": "python",
   "name": "python3"
  },
  "language_info": {
   "codemirror_mode": {
    "name": "ipython",
    "version": 3
   },
   "file_extension": ".py",
   "mimetype": "text/x-python",
   "name": "python",
   "nbconvert_exporter": "python",
   "pygments_lexer": "ipython3",
   "version": "3.9.13"
  }
 },
 "nbformat": 4,
 "nbformat_minor": 5
}
