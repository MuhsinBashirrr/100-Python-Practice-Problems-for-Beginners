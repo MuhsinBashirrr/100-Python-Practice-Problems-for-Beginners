{
 "cells": [
  {
   "cell_type": "markdown",
   "id": "7ab28ba8",
   "metadata": {},
   "source": [
    "# the max item of each row of a matrix. \n"
   ]
  },
  {
   "cell_type": "code",
   "execution_count": 21,
   "id": "f7365baf",
   "metadata": {},
   "outputs": [
    {
     "name": "stdout",
     "output_type": "stream",
     "text": [
      "[3, 6, 9]\n"
     ]
    }
   ],
   "source": [
    "def find_max_in_each_row(matrix):\n",
    "    max_items = []\n",
    "    for row in matrix:\n",
    "        max_item = max(row)\n",
    "        max_items.append(max_item)\n",
    "    return max_items\n",
    "\n",
    "# Example usage\n",
    "matrix = [\n",
    "    [1, 2, 3],\n",
    "    [4, 5, 6],\n",
    "    [7, 8, 9]\n",
    "]\n",
    "\n",
    "result = find_max_in_each_row(matrix)\n",
    "print(result)  # Output: [3, 6, 9]\n",
    "\n"
   ]
  },
  {
   "cell_type": "code",
   "execution_count": null,
   "id": "c3a5dffe",
   "metadata": {},
   "outputs": [],
   "source": []
  }
 ],
 "metadata": {
  "kernelspec": {
   "display_name": "Python 3 (ipykernel)",
   "language": "python",
   "name": "python3"
  },
  "language_info": {
   "codemirror_mode": {
    "name": "ipython",
    "version": 3
   },
   "file_extension": ".py",
   "mimetype": "text/x-python",
   "name": "python",
   "nbconvert_exporter": "python",
   "pygments_lexer": "ipython3",
   "version": "3.9.13"
  }
 },
 "nbformat": 4,
 "nbformat_minor": 5
}
