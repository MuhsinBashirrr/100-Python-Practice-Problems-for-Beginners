{
 "cells": [
  {
   "cell_type": "markdown",
   "id": "c3541f6c",
   "metadata": {},
   "source": [
    "# Write a program that will determine weather when the value of temperature and humidity is provided by the user.\n",
    "TEMPERATURE(C)      HUMIDITY(%)      WEATHER\n",
    "\n",
    "      >= 30                             >=90                Hot and Humid\n",
    "      >= 30                             < 90                 Hot\n",
    "      <30                                >= 90               Cool and Humid\n",
    "      <30                                 <90                 Cool\n"
   ]
  },
  {
   "cell_type": "code",
   "execution_count": 1,
   "id": "9ac2ab25",
   "metadata": {},
   "outputs": [
    {
     "name": "stdout",
     "output_type": "stream",
     "text": [
      "Enter the temperature in Celsius: 30\n",
      "Enter the humidity in percentage: 91\n",
      "Weather: Hot and Humid\n"
     ]
    }
   ],
   "source": [
    "def determine_weather(temperature, humidity):\n",
    "    if temperature >= 30 and humidity >= 90:\n",
    "        return \"Hot and Humid\"\n",
    "    elif temperature >= 30 and humidity < 90:\n",
    "        return \"Hot\"\n",
    "    elif temperature < 30 and humidity >= 90:\n",
    "        return \"Cool and Humid\"\n",
    "    else:\n",
    "        return \"Cool\"\n",
    "\n",
    "temperature = float(input(\"Enter the temperature in Celsius: \"))\n",
    "humidity = float(input(\"Enter the humidity in percentage: \"))\n",
    "\n",
    "weather = determine_weather(temperature, humidity)\n",
    "print(\"Weather:\", weather)\n"
   ]
  },
  {
   "cell_type": "code",
   "execution_count": null,
   "id": "a4660bfa",
   "metadata": {},
   "outputs": [],
   "source": []
  }
 ],
 "metadata": {
  "kernelspec": {
   "display_name": "Python 3 (ipykernel)",
   "language": "python",
   "name": "python3"
  },
  "language_info": {
   "codemirror_mode": {
    "name": "ipython",
    "version": 3
   },
   "file_extension": ".py",
   "mimetype": "text/x-python",
   "name": "python",
   "nbconvert_exporter": "python",
   "pygments_lexer": "ipython3",
   "version": "3.9.13"
  }
 },
 "nbformat": 4,
 "nbformat_minor": 5
}
