{
 "cells": [
  {
   "cell_type": "markdown",
   "id": "29e8ffda",
   "metadata": {},
   "source": [
    "# Write a program to find the compound interest."
   ]
  },
  {
   "cell_type": "code",
   "execution_count": 6,
   "id": "268c7e16",
   "metadata": {},
   "outputs": [
    {
     "name": "stdout",
     "output_type": "stream",
     "text": [
      "Enter the principal amount: 30000\n",
      "Enter the interest rate (in percentage): 10\n",
      "Enter the time period (in years): 3\n",
      "The compound interest is: 9930.000000000015\n"
     ]
    }
   ],
   "source": [
    "def calculate_compound_interest(principal, rate, time):\n",
    "    amount = principal * (1 + rate/100) ** time\n",
    "    compound_interest = amount - principal\n",
    "    return compound_interest\n",
    "\n",
    "\n",
    "principal = float(input(\"Enter the principal amount: \"))\n",
    "rate = float(input(\"Enter the interest rate (in percentage): \"))\n",
    "time = float(input(\"Enter the time period (in years): \"))\n",
    "\n",
    "\n",
    "interest = calculate_compound_interest(principal, rate, time)\n",
    "\n",
    "\n",
    "print(\"The compound interest is:\", interest)\n",
    "\n"
   ]
  },
  {
   "cell_type": "code",
   "execution_count": null,
   "id": "9185fcc3",
   "metadata": {},
   "outputs": [],
   "source": []
  }
 ],
 "metadata": {
  "kernelspec": {
   "display_name": "Python 3 (ipykernel)",
   "language": "python",
   "name": "python3"
  },
  "language_info": {
   "codemirror_mode": {
    "name": "ipython",
    "version": 3
   },
   "file_extension": ".py",
   "mimetype": "text/x-python",
   "name": "python",
   "nbconvert_exporter": "python",
   "pygments_lexer": "ipython3",
   "version": "3.9.13"
  }
 },
 "nbformat": 4,
 "nbformat_minor": 5
}
