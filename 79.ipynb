{
 "cells": [
  {
   "cell_type": "markdown",
   "id": "f1ca2e98",
   "metadata": {},
   "source": [
    "# Write a dummy program that can perform login and registration using a menu driven program.\n"
   ]
  },
  {
   "cell_type": "code",
   "execution_count": 10,
   "id": "0dd03c4f",
   "metadata": {},
   "outputs": [
    {
     "name": "stdout",
     "output_type": "stream",
     "text": [
      "===== Menu =====\n",
      "1. Register\n",
      "2. Login\n",
      "3. Exit\n",
      "Enter your choice (1-3): 1\n",
      "===== Registration =====\n",
      "Enter a username: muhsin\n",
      "Enter a password: muhsin\n",
      "Registration successful!\n",
      "===== Menu =====\n",
      "1. Register\n",
      "2. Login\n",
      "3. Exit\n",
      "Enter your choice (1-3): 2\n",
      "===== Login =====\n",
      "Enter your username: muhsin\n",
      "Enter your password: muhsin\n",
      "Login successful!\n",
      "===== Menu =====\n",
      "1. Register\n",
      "2. Login\n",
      "3. Exit\n",
      "Enter your choice (1-3): 3\n"
     ]
    },
    {
     "ename": "SystemExit",
     "evalue": "",
     "output_type": "error",
     "traceback": [
      "An exception has occurred, use %tb to see the full traceback.\n",
      "\u001b[1;31mSystemExit\u001b[0m\n"
     ]
    }
   ],
   "source": [
    "import sys\n",
    "\n",
    "# Dummy database to store user information\n",
    "database = {}\n",
    "\n",
    "\n",
    "def register():\n",
    "    print(\"===== Registration =====\")\n",
    "    username = input(\"Enter a username: \")\n",
    "    password = input(\"Enter a password: \")\n",
    "    database[username] = password\n",
    "    print(\"Registration successful!\")\n",
    "\n",
    "\n",
    "def login():\n",
    "    print(\"===== Login =====\")\n",
    "    username = input(\"Enter your username: \")\n",
    "    password = input(\"Enter your password: \")\n",
    "    if database.get(username) == password:\n",
    "        print(\"Login successful!\")\n",
    "    else:\n",
    "        print(\"Invalid username or password.\")\n",
    "\n",
    "\n",
    "def menu():\n",
    "    print(\"===== Menu =====\")\n",
    "    print(\"1. Register\")\n",
    "    print(\"2. Login\")\n",
    "    print(\"3. Exit\")\n",
    "\n",
    "    choice = input(\"Enter your choice (1-3): \")\n",
    "    if choice == '1':\n",
    "        register()\n",
    "    elif choice == '2':\n",
    "        login()\n",
    "    elif choice == '3':\n",
    "        sys.exit()\n",
    "    else:\n",
    "        print(\"Invalid choice. Please try again.\")\n",
    "\n",
    "    # Recursively call the menu function\n",
    "    menu()\n",
    "\n",
    "\n",
    "# Starting point of the program\n",
    "menu()\n",
    "\n"
   ]
  },
  {
   "cell_type": "code",
   "execution_count": null,
   "id": "e7af1e29",
   "metadata": {},
   "outputs": [],
   "source": []
  }
 ],
 "metadata": {
  "kernelspec": {
   "display_name": "Python 3 (ipykernel)",
   "language": "python",
   "name": "python3"
  },
  "language_info": {
   "codemirror_mode": {
    "name": "ipython",
    "version": 3
   },
   "file_extension": ".py",
   "mimetype": "text/x-python",
   "name": "python",
   "nbconvert_exporter": "python",
   "pygments_lexer": "ipython3",
   "version": "3.9.13"
  }
 },
 "nbformat": 4,
 "nbformat_minor": 5
}
