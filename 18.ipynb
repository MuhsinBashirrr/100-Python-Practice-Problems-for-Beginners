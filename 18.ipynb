{
 "cells": [
  {
   "cell_type": "markdown",
   "id": "ef765910",
   "metadata": {},
   "source": [
    "# Write a program that will take user input of (4 digits number) and check whether the number is narcissist number or not."
   ]
  },
  {
   "cell_type": "code",
   "execution_count": 5,
   "id": "4fd3bde8",
   "metadata": {},
   "outputs": [
    {
     "name": "stdout",
     "output_type": "stream",
     "text": [
      "Enter a four-digit number: 8208\n",
      "8208 is a narcissistic number.\n"
     ]
    }
   ],
   "source": [
    "def is_narcissistic_number(number):\n",
    "    num_str = str(number)\n",
    "\n",
    "    \n",
    "    num_digits = len(num_str)\n",
    "\n",
    "    \n",
    "    digit_sum = 0\n",
    "    for digit in num_str:\n",
    "        \n",
    "        digit_int = int(digit)\n",
    "\n",
    "        \n",
    "        digit_power = digit_int ** num_digits\n",
    "\n",
    "        \n",
    "        digit_sum += digit_power\n",
    "\n",
    "    if digit_sum == number:\n",
    "        return True\n",
    "    else:\n",
    "        return False\n",
    "    \n",
    "\n",
    "user_input = input(\"Enter a four-digit number: \")\n",
    "\n",
    "\n",
    "if len(user_input) == 4 and user_input.isdigit():\n",
    "    number = int(user_input)\n",
    "    if is_narcissistic_number(number):\n",
    "        print(number, \"is a narcissistic number.\")\n",
    "    else:\n",
    "        print(number, \"is not a narcissistic number.\")\n",
    "else:\n",
    "    print(\"Invalid input. Please enter a four-digit number.\")\n"
   ]
  },
  {
   "cell_type": "code",
   "execution_count": null,
   "id": "9cb80196",
   "metadata": {},
   "outputs": [],
   "source": []
  }
 ],
 "metadata": {
  "kernelspec": {
   "display_name": "Python 3 (ipykernel)",
   "language": "python",
   "name": "python3"
  },
  "language_info": {
   "codemirror_mode": {
    "name": "ipython",
    "version": 3
   },
   "file_extension": ".py",
   "mimetype": "text/x-python",
   "name": "python",
   "nbconvert_exporter": "python",
   "pygments_lexer": "ipython3",
   "version": "3.9.13"
  }
 },
 "nbformat": 4,
 "nbformat_minor": 5
}
